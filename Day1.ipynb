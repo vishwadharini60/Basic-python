{
 "cells": [
  {
   "cell_type": "code",
   "execution_count": 3,
   "id": "c123fcbf",
   "metadata": {},
   "outputs": [
    {
     "name": "stdout",
     "output_type": "stream",
     "text": [
      "Hello\n"
     ]
    }
   ],
   "source": [
    "# Single ine comment\n",
    "\n",
    "'''\n",
    "Multi line comment\n",
    "\n",
    "'''\n",
    "print('Hello')"
   ]
  },
  {
   "cell_type": "code",
   "execution_count": 24,
   "id": "c13d47ca",
   "metadata": {},
   "outputs": [
    {
     "name": "stdout",
     "output_type": "stream",
     "text": [
      "This is Vishwa's art\n",
      "This is Vishwa's art\n"
     ]
    }
   ],
   "source": [
    "#Print statements when u use apostraphy\n",
    "print(\"This is Vishwa's art\")\n",
    "print('This is Vishwa\\'s art')"
   ]
  },
  {
   "cell_type": "code",
   "execution_count": 26,
   "id": "f1d2bd0e",
   "metadata": {},
   "outputs": [
    {
     "name": "stdout",
     "output_type": "stream",
     "text": [
      "She said \"That is a beautiful painting\"\n",
      "She said \"That is a beautiful art\"\n"
     ]
    }
   ],
   "source": [
    "#When v want to use double quotes\n",
    "print('''She said \"That is a beautiful painting\"''')\n",
    "print('She said '+'\"'+'That is a beautiful painting'+'\"')"
   ]
  },
  {
   "cell_type": "code",
   "execution_count": 27,
   "id": "0a46408a",
   "metadata": {},
   "outputs": [
    {
     "name": "stdout",
     "output_type": "stream",
     "text": [
      "HelloDeloitte\n"
     ]
    }
   ],
   "source": [
    "#concatination of string\n",
    "a='Hello'\n",
    "print(a+'Deloitte')"
   ]
  },
  {
   "cell_type": "code",
   "execution_count": 29,
   "id": "0272f9ea",
   "metadata": {},
   "outputs": [
    {
     "name": "stdout",
     "output_type": "stream",
     "text": [
      "the sum of 5 and 10 is 15\n"
     ]
    }
   ],
   "source": [
    "a=5\n",
    "b=10\n",
    "c=a+b\n",
    "print('the sum of '+str(a)+' and '+str(b)+' is '+str(c))"
   ]
  },
  {
   "cell_type": "code",
   "execution_count": 15,
   "id": "bb6bf877",
   "metadata": {},
   "outputs": [
    {
     "name": "stdout",
     "output_type": "stream",
     "text": [
      "<class 'int'>\n"
     ]
    },
    {
     "data": {
      "text/plain": [
       "float"
      ]
     },
     "execution_count": 15,
     "metadata": {},
     "output_type": "execute_result"
    }
   ],
   "source": [
    "a=10\n",
    "b=10.6\n",
    "print(type(a))\n",
    "type(b)"
   ]
  },
  {
   "cell_type": "code",
   "execution_count": null,
   "id": "8ec2d49e",
   "metadata": {},
   "outputs": [],
   "source": [
    "print"
   ]
  },
  {
   "cell_type": "code",
   "execution_count": 22,
   "id": "24717bfc",
   "metadata": {},
   "outputs": [
    {
     "name": "stdout",
     "output_type": "stream",
     "text": [
      "12\n",
      "<class 'int'>\n",
      "8\n",
      "<class 'int'>\n",
      "20\n",
      "<class 'int'>\n",
      "5.0\n",
      "<class 'float'>\n",
      "5\n",
      "<class 'int'>\n",
      "0\n",
      "<class 'int'>\n",
      "100\n",
      "<class 'int'>\n"
     ]
    }
   ],
   "source": [
    "#arthimetic operators\n",
    "a=10\n",
    "b=2\n",
    "\n",
    "print(a+b)\n",
    "print(type(a+b))\n",
    "\n",
    "print(a-b)\n",
    "print(type(a-b))\n",
    "\n",
    "print(a*b)\n",
    "print(type(a*b))\n",
    "\n",
    "print(a/b)\n",
    "print(type(a/b))\n",
    "\n",
    "print(a//b)\n",
    "print(type(a//b))\n",
    "\n",
    "print(a%b)\n",
    "print(type(a%b))\n",
    "\n",
    "print(a**b)\n",
    "print(type(a**b))"
   ]
  },
  {
   "cell_type": "code",
   "execution_count": 31,
   "id": "94a5afbe",
   "metadata": {},
   "outputs": [
    {
     "name": "stdout",
     "output_type": "stream",
     "text": [
      "False\n",
      "True\n"
     ]
    }
   ],
   "source": [
    "#membership\n",
    "a='deloitte'\n",
    "b='del'\n",
    "print( a in b)\n",
    "print(b in a)"
   ]
  },
  {
   "cell_type": "code",
   "execution_count": 33,
   "id": "67bf42d5",
   "metadata": {},
   "outputs": [
    {
     "name": "stdout",
     "output_type": "stream",
     "text": [
      "False\n",
      "True\n"
     ]
    }
   ],
   "source": [
    "#identity\n",
    "a='deloitte'\n",
    "b='del'\n",
    "print(a is b)\n",
    "print(a is not b)"
   ]
  },
  {
   "cell_type": "code",
   "execution_count": 41,
   "id": "56dd4998",
   "metadata": {},
   "outputs": [
    {
     "name": "stdout",
     "output_type": "stream",
     "text": [
      "Enter a number20\n",
      "zap\n"
     ]
    }
   ],
   "source": [
    "# To print zoom if divisble by 3 and 5, zup if divisible by 3,zap if by 5 and invalid otherwise\n",
    "num=int(input(\"Enter a number\"))\n",
    "if num%3==0 and num%5==0:\n",
    "    print(\"zoom\")\n",
    "elif num%3==0:\n",
    "    print(\"zip\")\n",
    "elif num%5==0:\n",
    "    print(\"zap\")\n",
    "else:\n",
    "    print(\"invalid\")"
   ]
  },
  {
   "cell_type": "code",
   "execution_count": 66,
   "id": "95560c1f",
   "metadata": {},
   "outputs": [
    {
     "name": "stdout",
     "output_type": "stream",
     "text": [
      "e\n",
      "o\n",
      "i\n",
      "e\n"
     ]
    }
   ],
   "source": [
    "#to print vowels in a str\n",
    "str1=\"Deloitte\"\n",
    "for s in str1:\n",
    "    if s in 'aeiou':\n",
    "        print(s)"
   ]
  },
  {
   "cell_type": "code",
   "execution_count": 65,
   "id": "d3fc527c",
   "metadata": {},
   "outputs": [
    {
     "name": "stdout",
     "output_type": "stream",
     "text": [
      "Enter a number123\n",
      "6\n"
     ]
    }
   ],
   "source": [
    "#To print sum of 123\n",
    "num=(input(\"Enter a number\"))\n",
    "sum=0\n",
    "for i in num:\n",
    "    sum+=int(i)\n",
    "print(sum)\n"
   ]
  },
  {
   "cell_type": "code",
   "execution_count": 71,
   "id": "4ecc6f4f",
   "metadata": {},
   "outputs": [
    {
     "name": "stdout",
     "output_type": "stream",
     "text": [
      "1\n",
      "3\n",
      "5\n",
      "7\n"
     ]
    }
   ],
   "source": [
    "#break example\n",
    "x='135781357'\n",
    "\n",
    "for i in x:\n",
    "    if int(i)%2==0:\n",
    "        break\n",
    "    else:\n",
    "        print(i)"
   ]
  },
  {
   "cell_type": "code",
   "execution_count": 72,
   "id": "05418fc7",
   "metadata": {},
   "outputs": [
    {
     "name": "stdout",
     "output_type": "stream",
     "text": [
      "1\n",
      "3\n",
      "5\n",
      "7\n",
      "1\n",
      "3\n",
      "5\n",
      "7\n"
     ]
    }
   ],
   "source": [
    "#continue example\n",
    "x='135781357'\n",
    "\n",
    "for i in x:\n",
    "    if int(i)%2==0:\n",
    "        continue\n",
    "    else:\n",
    "        print(i)"
   ]
  },
  {
   "cell_type": "code",
   "execution_count": 76,
   "id": "f0ce9483",
   "metadata": {},
   "outputs": [
    {
     "name": "stdout",
     "output_type": "stream",
     "text": [
      "h\n"
     ]
    }
   ],
   "source": [
    "# suppose to be error but dk why h\n",
    "Y=2\n",
    "if 2!=Y:\n",
    "    print(\"k\")\n",
    "else:\n",
    "    print(\"h\")"
   ]
  },
  {
   "cell_type": "code",
   "execution_count": 88,
   "id": "20b3c915",
   "metadata": {},
   "outputs": [
    {
     "name": "stdout",
     "output_type": "stream",
     "text": [
      "2\n",
      "3\n",
      "5\n",
      "7\n",
      "11\n",
      "13\n",
      "17\n",
      "19\n",
      "23\n",
      "29\n",
      "31\n",
      "37\n",
      "41\n",
      "43\n",
      "47\n",
      "53\n",
      "59\n",
      "61\n",
      "67\n",
      "71\n",
      "73\n",
      "79\n",
      "83\n",
      "89\n",
      "97\n"
     ]
    }
   ],
   "source": [
    "#prime numbers till 100\n",
    "\n",
    "for num in range(1, 100):\n",
    "    if num > 1:  \n",
    "        for i in range(2, num):\n",
    "            if num % i == 0:\n",
    "                break  \n",
    "        else:\n",
    "            print(num)  \n",
    "\n"
   ]
  },
  {
   "cell_type": "code",
   "execution_count": 92,
   "id": "84564209",
   "metadata": {},
   "outputs": [
    {
     "name": "stdout",
     "output_type": "stream",
     "text": [
      "Enter a number-2\n",
      "number is negative\n"
     ]
    }
   ],
   "source": [
    "#to check if number is positive negative or zero\n",
    "\n",
    "num=int(input(\"Enter a number\"))\n",
    "if(num==0):\n",
    "    print(\"number is zero\")\n",
    "elif(num>0):\n",
    "    print(\"number is positive\")\n",
    "else:\n",
    "    print(\"number is negative\")"
   ]
  },
  {
   "cell_type": "code",
   "execution_count": 107,
   "id": "a30c3ff9",
   "metadata": {},
   "outputs": [
    {
     "name": "stdout",
     "output_type": "stream",
     "text": [
      "enter a sentence wor doc\n",
      "2\n"
     ]
    }
   ],
   "source": [
    "#to print the number of words in the sentence\n",
    "\n",
    "sentence=input(\"enter a sentence \")\n",
    "count=0\n",
    "for word in sentence:\n",
    "    if word==\" \":\n",
    "        count+=1\n",
    "if count==0:\n",
    "    print(count)\n",
    "else:\n",
    "    print(count+1)"
   ]
  },
  {
   "cell_type": "code",
   "execution_count": 135,
   "id": "604bc41e",
   "metadata": {},
   "outputs": [
    {
     "name": "stdout",
     "output_type": "stream",
     "text": [
      "2 4 6 8 10 "
     ]
    }
   ],
   "source": [
    "for num in range(1,11):\n",
    "    if(num%2==0):\n",
    "        print(num,end=\" \")"
   ]
  },
  {
   "cell_type": "code",
   "execution_count": 119,
   "id": "fc4b0045",
   "metadata": {},
   "outputs": [
    {
     "name": "stdout",
     "output_type": "stream",
     "text": [
      "number before swap 10 and 5\n",
      "number after swap 5 and 10\n"
     ]
    }
   ],
   "source": [
    "#swapping two numbers\n",
    "a=10\n",
    "b=5\n",
    "\n",
    "print(f\"number before swap {a} and {b}\")\n",
    "a=a+b\n",
    "b=a-b\n",
    "a=a-b\n",
    "print(f\"number after swap {a} and {b}\")"
   ]
  },
  {
   "cell_type": "code",
   "execution_count": 136,
   "id": "386c26ba",
   "metadata": {},
   "outputs": [
    {
     "name": "stdout",
     "output_type": "stream",
     "text": [
      "enter the temp in Celsius 20\n",
      "The temp in Fahrenheit is 68.0\n"
     ]
    }
   ],
   "source": [
    "Ctemp=int(input(\"enter the temp in Celsius \"))\n",
    "Ftemp=Ctemp*(9/5)+32\n",
    "print(f'The temp in Fahrenheit is {Ftemp}')\n",
    "\n"
   ]
  },
  {
   "cell_type": "code",
   "execution_count": 128,
   "id": "380a80d2",
   "metadata": {},
   "outputs": [
    {
     "name": "stdout",
     "output_type": "stream",
     "text": [
      "enter the number on minutes 135\n",
      "2 hours 15 minute\n"
     ]
    }
   ],
   "source": [
    "time=int(input(\"enter the number on minutes \"))\n",
    "hours=time//60\n",
    "min=time%60\n",
    "print(f'{hours} hours {min} minutes')"
   ]
  },
  {
   "cell_type": "code",
   "execution_count": 134,
   "id": "c84c5504",
   "metadata": {},
   "outputs": [
    {
     "name": "stdout",
     "output_type": "stream",
     "text": [
      "Enter first number20\n",
      "Enter second number30\n",
      "Enter third number10\n",
      "30 is the biggest\n"
     ]
    }
   ],
   "source": [
    "num1=int(input(\"Enter first number \"))\n",
    "num2=int(input(\"Enter second number \"))\n",
    "num3=int(input(\"Enter third number \"))\n",
    "\n",
    "if num1>num2 and num1>num3:\n",
    "    print(f'{num1} is the biggest')\n",
    "elif num2>num1 and num2>num3:\n",
    "     print(f'{num2} is the biggest')\n",
    "else:\n",
    "     print(f'{num3} is the biggest')\n",
    "    "
   ]
  },
  {
   "cell_type": "code",
   "execution_count": 139,
   "id": "b642ca23",
   "metadata": {},
   "outputs": [
    {
     "data": {
      "text/plain": [
       "5"
      ]
     },
     "execution_count": 139,
     "metadata": {},
     "output_type": "execute_result"
    }
   ],
   "source": [
    "#bitwise and\n",
    "4&5\n"
   ]
  },
  {
   "cell_type": "code",
   "execution_count": 140,
   "id": "317bc679",
   "metadata": {},
   "outputs": [
    {
     "data": {
      "text/plain": [
       "4"
      ]
     },
     "execution_count": 140,
     "metadata": {},
     "output_type": "execute_result"
    }
   ],
   "source": [
    "#bitwise or\n",
    "4&5\n"
   ]
  },
  {
   "cell_type": "code",
   "execution_count": 142,
   "id": "91d45b9f",
   "metadata": {},
   "outputs": [
    {
     "data": {
      "text/plain": [
       "1"
      ]
     },
     "execution_count": 142,
     "metadata": {},
     "output_type": "execute_result"
    }
   ],
   "source": [
    "#bitwise not\n",
    "4^5"
   ]
  },
  {
   "cell_type": "code",
   "execution_count": 153,
   "id": "6f0c933b",
   "metadata": {},
   "outputs": [
    {
     "data": {
      "text/plain": [
       "204910.35"
      ]
     },
     "execution_count": 153,
     "metadata": {},
     "output_type": "execute_result"
    }
   ],
   "source": [
    "def calculate_total_ticket_cost(no_of_adults,no_of_children):\n",
    "    total_ticket_cost=0\n",
    "    rate_per_adult=37550.0\n",
    "    rate_per_child=(1/3)*rate_per_adult\n",
    "    cost= (no_of_adults*rate_per_adult) + (no_of_children*rate_per_child)\n",
    "    service_tax=(7/100)*cost\n",
    "    cost=cost+service_tax\n",
    "    discount=(10/100)*cost\n",
    "    total_ticket_cost=cost-discount\n",
    "    \n",
    "    return total_ticket_cost\n",
    "\n",
    "calculate_total_ticket_cost(5,2)\n",
    "    "
   ]
  },
  {
   "cell_type": "code",
   "execution_count": null,
   "id": "846464c5",
   "metadata": {},
   "outputs": [],
   "source": []
  }
 ],
 "metadata": {
  "kernelspec": {
   "display_name": "Python 3 (ipykernel)",
   "language": "python",
   "name": "python3"
  },
  "language_info": {
   "codemirror_mode": {
    "name": "ipython",
    "version": 3
   },
   "file_extension": ".py",
   "mimetype": "text/x-python",
   "name": "python",
   "nbconvert_exporter": "python",
   "pygments_lexer": "ipython3",
   "version": "3.11.5"
  }
 },
 "nbformat": 4,
 "nbformat_minor": 5
}
