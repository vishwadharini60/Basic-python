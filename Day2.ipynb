{
 "cells": [
  {
   "cell_type": "code",
   "execution_count": 3,
   "id": "55c67258",
   "metadata": {},
   "outputs": [
    {
     "name": "stdout",
     "output_type": "stream",
     "text": [
      "apple\n",
      "banana\n",
      "['blueberry', 'strawberry']\n",
      "[['blueberry', 'strawberry', 'blackberry'], 'kiwi']\n",
      "strawberry\n"
     ]
    }
   ],
   "source": [
    "# List\n",
    "\n",
    "list0=['apple','orange','cherry','kiwi','banana']\n",
    "print(list0[0])\n",
    "print(list0[-1])\n",
    "list0[-1]=['blueberry','strawberry','blackberry']\n",
    "print(list0[-1][0:2])\n",
    "print(list0[-1:-3:-1])\n",
    "print(list0[-1][1])"
   ]
  },
  {
   "cell_type": "code",
   "execution_count": 19,
   "id": "d26415ec",
   "metadata": {},
   "outputs": [
    {
     "name": "stdout",
     "output_type": "stream",
     "text": [
      "['A', 'B', 'C', 'D', 'E', 'F', 'G', 'H', 'I', 'J', 'K']\n",
      "['A', 'B', 'C', 'E', 'F', 'G', 'H', 'I', 'J', 'K']\n",
      "G\n",
      "['A', 'B', 'C', 'E', 'F', 'G', 'H', 'I', 'J', 'G', 'K']\n",
      "G\n",
      "[]\n"
     ]
    }
   ],
   "source": [
    "list1=['A','B','C','D','E','F','G','H','I','J']\n",
    "\n",
    "list1.append('K')\n",
    "print(list1)\n",
    "\n",
    "del list1[3]\n",
    "print(list1)\n",
    "\n",
    "val=list1[5]\n",
    "print(val)\n",
    "\n",
    "list1.insert(9,val)\n",
    "print(list1)\n",
    "\n",
    "print(list1[-2])\n",
    "\n",
    "list1.clear()\n",
    "print(list1)"
   ]
  },
  {
   "cell_type": "code",
   "execution_count": 48,
   "id": "d397bb88",
   "metadata": {},
   "outputs": [
    {
     "name": "stdout",
     "output_type": "stream",
     "text": [
      "[10, 20, 40, 50, 90]\n",
      "[20, 40, 50, 90, 10]\n",
      "None\n",
      "[10, 20, 40, 50, 90]\n",
      "[90, 50, 40, 20, 10]\n"
     ]
    }
   ],
   "source": [
    "# sorting a list\n",
    "\n",
    "lists=[20,40,50,90,10]\n",
    "print(sorted(lists))\n",
    "print(lists)\n",
    "\n",
    "print(lists.sort())\n",
    "print(lists)\n",
    "\n",
    "lists.sort(reverse=True)\n",
    "print(lists)"
   ]
  },
  {
   "cell_type": "code",
   "execution_count": 21,
   "id": "57b40d24",
   "metadata": {},
   "outputs": [
    {
     "name": "stdout",
     "output_type": "stream",
     "text": [
      "['1', '2']\n"
     ]
    }
   ],
   "source": [
    "#concatenating list\n",
    "\n",
    "list1=['1','2']\n",
    "list1=list1+['3']\n",
    "print(list1)"
   ]
  },
  {
   "cell_type": "code",
   "execution_count": 38,
   "id": "f7192149",
   "metadata": {},
   "outputs": [
    {
     "name": "stdout",
     "output_type": "stream",
     "text": [
      "('one', 'two', ['three', 'four'], ('five', 'six'))\n",
      "four\n",
      "('one', 'two', ['three', 'four'], ('five', 'six'), 'seven', 'eight')\n",
      "(('five', 'six'), ['three', 'four'], 'two', 'one')\n",
      "('two', ['three', 'four'], ('five', 'six'))\n",
      "three\n"
     ]
    }
   ],
   "source": [
    "# Tuple\n",
    "\n",
    "tup=('one','two',['three','four'],('five','six'))\n",
    "print(tuple)\n",
    "\n",
    "print(tup[2][1])\n",
    "\n",
    "tup1=tup+('seven','eight')\n",
    "print(tup1)\n",
    "\n",
    "print(tup[::-1])\n",
    "\n",
    "print(tup[1:])\n"
   ]
  },
  {
   "cell_type": "code",
   "execution_count": 32,
   "id": "ef35dde7",
   "metadata": {},
   "outputs": [
    {
     "ename": "TypeError",
     "evalue": "'tuple' object doesn't support item deletion",
     "output_type": "error",
     "traceback": [
      "\u001b[1;31m---------------------------------------------------------------------------\u001b[0m",
      "\u001b[1;31mTypeError\u001b[0m                                 Traceback (most recent call last)",
      "Cell \u001b[1;32mIn[32], line 1\u001b[0m\n\u001b[1;32m----> 1\u001b[0m \u001b[38;5;28;01mdel\u001b[39;00m tup[\u001b[38;5;241m2\u001b[39m]\n",
      "\u001b[1;31mTypeError\u001b[0m: 'tuple' object doesn't support item deletion"
     ]
    }
   ],
   "source": [
    "del tup[2]"
   ]
  },
  {
   "cell_type": "code",
   "execution_count": 33,
   "id": "11822047",
   "metadata": {},
   "outputs": [
    {
     "ename": "TypeError",
     "evalue": "'tuple' object does not support item assignment",
     "output_type": "error",
     "traceback": [
      "\u001b[1;31m---------------------------------------------------------------------------\u001b[0m",
      "\u001b[1;31mTypeError\u001b[0m                                 Traceback (most recent call last)",
      "Cell \u001b[1;32mIn[33], line 1\u001b[0m\n\u001b[1;32m----> 1\u001b[0m tup[\u001b[38;5;241m1\u001b[39m]\u001b[38;5;241m=\u001b[39m\u001b[38;5;124m\"\u001b[39m\u001b[38;5;124mten\u001b[39m\u001b[38;5;124m\"\u001b[39m\n",
      "\u001b[1;31mTypeError\u001b[0m: 'tuple' object does not support item assignment"
     ]
    }
   ],
   "source": [
    "tup[1]=\"ten\""
   ]
  },
  {
   "cell_type": "code",
   "execution_count": 49,
   "id": "fe3a7401",
   "metadata": {},
   "outputs": [
    {
     "ename": "AttributeError",
     "evalue": "'tuple' object has no attribute 'insert'",
     "output_type": "error",
     "traceback": [
      "\u001b[1;31m---------------------------------------------------------------------------\u001b[0m",
      "\u001b[1;31mAttributeError\u001b[0m                            Traceback (most recent call last)",
      "Cell \u001b[1;32mIn[49], line 1\u001b[0m\n\u001b[1;32m----> 1\u001b[0m tup\u001b[38;5;241m.\u001b[39minsert[\u001b[38;5;241m2\u001b[39m,\u001b[38;5;124m\"\u001b[39m\u001b[38;5;124mten\u001b[39m\u001b[38;5;124m\"\u001b[39m]\n",
      "\u001b[1;31mAttributeError\u001b[0m: 'tuple' object has no attribute 'insert'"
     ]
    }
   ],
   "source": [
    "tup.insert[2,\"ten\"]"
   ]
  },
  {
   "cell_type": "code",
   "execution_count": 50,
   "id": "3efee435",
   "metadata": {},
   "outputs": [
    {
     "ename": "AttributeError",
     "evalue": "'tuple' object has no attribute 'append'",
     "output_type": "error",
     "traceback": [
      "\u001b[1;31m---------------------------------------------------------------------------\u001b[0m",
      "\u001b[1;31mAttributeError\u001b[0m                            Traceback (most recent call last)",
      "Cell \u001b[1;32mIn[50], line 1\u001b[0m\n\u001b[1;32m----> 1\u001b[0m tup\u001b[38;5;241m.\u001b[39mappend(\u001b[38;5;124m\"\u001b[39m\u001b[38;5;124mten\u001b[39m\u001b[38;5;124m\"\u001b[39m)\n",
      "\u001b[1;31mAttributeError\u001b[0m: 'tuple' object has no attribute 'append'"
     ]
    }
   ],
   "source": [
    "tup.append(\"ten\")"
   ]
  },
  {
   "cell_type": "code",
   "execution_count": 34,
   "id": "f1e18aba",
   "metadata": {},
   "outputs": [
    {
     "data": {
      "text/plain": [
       "[1, 2, 3, 5, 7, 8]"
      ]
     },
     "execution_count": 34,
     "metadata": {},
     "output_type": "execute_result"
    }
   ],
   "source": [
    "tup2=(1,2,5,7,3,8)\n",
    "sorted(tup2)"
   ]
  },
  {
   "cell_type": "code",
   "execution_count": 58,
   "id": "d1b9bc93",
   "metadata": {},
   "outputs": [
    {
     "name": "stdout",
     "output_type": "stream",
     "text": [
      "<class 'dict'>\n"
     ]
    }
   ],
   "source": [
    "#set\n",
    "set1={}\n",
    "print(type(set1))"
   ]
  },
  {
   "cell_type": "code",
   "execution_count": 5,
   "id": "bebb4032",
   "metadata": {},
   "outputs": [
    {
     "name": "stdout",
     "output_type": "stream",
     "text": [
      "<class 'set'>\n"
     ]
    }
   ],
   "source": [
    "ser1=set()\n",
    "print(type(ser1))"
   ]
  },
  {
   "cell_type": "code",
   "execution_count": 76,
   "id": "37c65fbb",
   "metadata": {},
   "outputs": [
    {
     "name": "stdout",
     "output_type": "stream",
     "text": [
      "{0, 1, 2, 3}\n",
      "{0, 1, 2, 3, 6}\n",
      "{0, 1, 2, 3, 6, (7, 8)}\n"
     ]
    }
   ],
   "source": [
    "set1={0,0,1,2,3,3,False,True}\n",
    "print(set1)\n",
    "\n",
    "set1.add(6)\n",
    "print(set1)\n",
    "\n",
    "set1.add((7,8))\n",
    "print(set1)\n",
    "\n",
    "set1.remove(6)"
   ]
  },
  {
   "cell_type": "code",
   "execution_count": 77,
   "id": "f5ccbde8",
   "metadata": {},
   "outputs": [
    {
     "ename": "TypeError",
     "evalue": "unhashable type: 'list'",
     "output_type": "error",
     "traceback": [
      "\u001b[1;31m---------------------------------------------------------------------------\u001b[0m",
      "\u001b[1;31mTypeError\u001b[0m                                 Traceback (most recent call last)",
      "Cell \u001b[1;32mIn[77], line 1\u001b[0m\n\u001b[1;32m----> 1\u001b[0m set1\u001b[38;5;241m.\u001b[39madd([\u001b[38;5;241m7\u001b[39m,\u001b[38;5;241m8\u001b[39m])\n",
      "\u001b[1;31mTypeError\u001b[0m: unhashable type: 'list'"
     ]
    }
   ],
   "source": [
    "set1.add([7,8])"
   ]
  },
  {
   "cell_type": "markdown",
   "id": "f941a156",
   "metadata": {},
   "source": [
    "\n"
   ]
  },
  {
   "cell_type": "code",
   "execution_count": 60,
   "id": "d79e0198",
   "metadata": {},
   "outputs": [
    {
     "ename": "TypeError",
     "evalue": "'set' object is not subscriptable",
     "output_type": "error",
     "traceback": [
      "\u001b[1;31m---------------------------------------------------------------------------\u001b[0m",
      "\u001b[1;31mTypeError\u001b[0m                                 Traceback (most recent call last)",
      "Cell \u001b[1;32mIn[60], line 1\u001b[0m\n\u001b[1;32m----> 1\u001b[0m \u001b[38;5;28mprint\u001b[39m(set1[\u001b[38;5;241m2\u001b[39m])\n",
      "\u001b[1;31mTypeError\u001b[0m: 'set' object is not subscriptable"
     ]
    }
   ],
   "source": [
    "print(set1[2])"
   ]
  },
  {
   "cell_type": "code",
   "execution_count": 73,
   "id": "9a108dc5",
   "metadata": {},
   "outputs": [
    {
     "ename": "NameError",
     "evalue": "name 'set1' is not defined",
     "output_type": "error",
     "traceback": [
      "\u001b[1;31m---------------------------------------------------------------------------\u001b[0m",
      "\u001b[1;31mNameError\u001b[0m                                 Traceback (most recent call last)",
      "Cell \u001b[1;32mIn[73], line 1\u001b[0m\n\u001b[1;32m----> 1\u001b[0m \u001b[38;5;28;01mdel\u001b[39;00m set1\n\u001b[0;32m      2\u001b[0m \u001b[38;5;28mprint\u001b[39m(set1)\n",
      "\u001b[1;31mNameError\u001b[0m: name 'set1' is not defined"
     ]
    }
   ],
   "source": [
    "del set1\n",
    "print(set1)"
   ]
  },
  {
   "cell_type": "code",
   "execution_count": 25,
   "id": "1c1efd2e",
   "metadata": {},
   "outputs": [
    {
     "name": "stdout",
     "output_type": "stream",
     "text": [
      "{1, 2, 3, 4, 5, 6, 7, 8}\n",
      "set()\n",
      "{1, 3, 5, 7}\n",
      "{1, 3, 5, 7}\n",
      "{1, 2, 3, 4, 5, 6, 7, 8, 10}\n",
      "{8, 2, 4, 6}\n",
      "{8, 2, 4, 6}\n",
      "{1, 3, 5, 7}\n",
      "36\n",
      "8\n",
      "1\n",
      "8\n",
      "[2, 4, 6, 8]\n"
     ]
    }
   ],
   "source": [
    "#set operations\n",
    "\n",
    "setA={1,2,3,4,5,1,2,6,7,8}\n",
    "setB={2,2,4,6,8,4}\n",
    "setC={1,3,3,5,7,7,10}\n",
    "\n",
    "print(setA|setB)\n",
    "print(setA&setB&setC)\n",
    "print(setA-setB)\n",
    "print(setA^setB)\n",
    "\n",
    "print(setA.union(setB,setC))\n",
    "print(setA.intersection(setB))\n",
    "print(setA.difference(setC))\n",
    "print(setA.symmetric_difference(setB))\n",
    "\n",
    "print(sum(setA))\n",
    "print(max(setA))\n",
    "print(min(setA))\n",
    "print(len(setA))\n",
    "print(sorted(setB))"
   ]
  },
  {
   "cell_type": "code",
   "execution_count": 14,
   "id": "a7c25a54",
   "metadata": {},
   "outputs": [
    {
     "name": "stdout",
     "output_type": "stream",
     "text": [
      "(1, 3, 5, 7)\n",
      "[1, 3, 5, 7]\n"
     ]
    }
   ],
   "source": [
    "#converting to other types\n",
    "\n",
    "setC={1,3,3,5,7,7}\n",
    "tupleC=tuple(setC)\n",
    "print(tupleC)\n",
    "\n",
    "listC=list(setC)\n",
    "print(listC)"
   ]
  },
  {
   "cell_type": "code",
   "execution_count": 32,
   "id": "e7c2d261",
   "metadata": {},
   "outputs": [
    {
     "name": "stdout",
     "output_type": "stream",
     "text": [
      "{'AAPL': 612.78, 'IBM': 205.55}\n"
     ]
    }
   ],
   "source": [
    "new_prices={}\n",
    "def create_new_dictionary(prices):\n",
    "    for k,v in prices.items():\n",
    "        if v>200:\n",
    "            new_prices[k]=v\n",
    "    return new_prices\n",
    "\n",
    "prices={'ACME':45.23,'AAPL':612.78,'IBM':205.55,'HPQ':37.20,'FB':10.75}\n",
    "print(create_new_dictionary(prices))\n",
    "\n"
   ]
  },
  {
   "cell_type": "code",
   "execution_count": 43,
   "id": "a916c84d",
   "metadata": {},
   "outputs": [
    {
     "name": "stdout",
     "output_type": "stream",
     "text": [
      "400\n"
     ]
    }
   ],
   "source": [
    "\n",
    "def calculate_net_amount(trans_list):\n",
    "    net_amount=0\n",
    "    for i in trans_list:\n",
    "        if i[0]=='d':\n",
    "            net_amount+=int(i[-3:])\n",
    "        else:\n",
    "            net_amount-=int(i[-3:])\n",
    "            \n",
    "    return net_amount\n",
    "\n",
    "trans_list=[\"d:300\",\"d:200\",\"w:200\",\"d:100\"]\n",
    "print(calculate_net_amount(trans_list))\n",
    "    "
   ]
  },
  {
   "cell_type": "code",
   "execution_count": 49,
   "id": "d941e414",
   "metadata": {},
   "outputs": [
    {
     "name": "stdout",
     "output_type": "stream",
     "text": [
      "['god', 'jul']\n"
     ]
    }
   ],
   "source": [
    "dict={\"merry\":\"god\",\"christmas\":\"jul\",\"and\":\"och\",\"happy\":\"gott\",\"new\":\"nytt\",\"year\":\"ar\"}\n",
    "\n",
    "def translate(listE):\n",
    "    listS=[]\n",
    "    for word in listE:\n",
    "        for k in dict:\n",
    "            if word==k:\n",
    "                listS.append(dict[k])\n",
    "    return listS\n",
    "\n",
    "print(translate([\"merry\",\"christmas\"]))\n"
   ]
  },
  {
   "cell_type": "code",
   "execution_count": 70,
   "id": "e70d3b87",
   "metadata": {},
   "outputs": [
    {
     "name": "stdout",
     "output_type": "stream",
     "text": [
      "20000\n",
      "100\n"
     ]
    }
   ],
   "source": [
    "# scope of a variable\n",
    "\n",
    "global_var=100\n",
    "\n",
    "def fun():\n",
    "    local_var=200*global_var\n",
    "    print(local_var)\n",
    "    print(global_var)\n",
    "    \n",
    "fun()\n"
   ]
  },
  {
   "cell_type": "code",
   "execution_count": 60,
   "id": "037ff09a",
   "metadata": {},
   "outputs": [
    {
     "ename": "NameError",
     "evalue": "name 'local_var' is not defined",
     "output_type": "error",
     "traceback": [
      "\u001b[1;31m---------------------------------------------------------------------------\u001b[0m",
      "\u001b[1;31mNameError\u001b[0m                                 Traceback (most recent call last)",
      "Cell \u001b[1;32mIn[60], line 1\u001b[0m\n\u001b[1;32m----> 1\u001b[0m \u001b[38;5;28mprint\u001b[39m(local_var)\n",
      "\u001b[1;31mNameError\u001b[0m: name 'local_var' is not defined"
     ]
    }
   ],
   "source": [
    "print(local_var)"
   ]
  },
  {
   "cell_type": "code",
   "execution_count": 74,
   "id": "dd2a4904",
   "metadata": {},
   "outputs": [
    {
     "ename": "UnboundLocalError",
     "evalue": "cannot access local variable 'global_var' where it is not associated with a value",
     "output_type": "error",
     "traceback": [
      "\u001b[1;31m---------------------------------------------------------------------------\u001b[0m",
      "\u001b[1;31mUnboundLocalError\u001b[0m                         Traceback (most recent call last)",
      "Cell \u001b[1;32mIn[74], line 8\u001b[0m\n\u001b[0;32m      5\u001b[0m     \u001b[38;5;28mprint\u001b[39m(local_var)\n\u001b[0;32m      6\u001b[0m     \u001b[38;5;28mprint\u001b[39m(global_var)\n\u001b[1;32m----> 8\u001b[0m fun()\n\u001b[0;32m      9\u001b[0m \u001b[38;5;28mprint\u001b[39m(global_var)\n",
      "Cell \u001b[1;32mIn[74], line 4\u001b[0m, in \u001b[0;36mfun\u001b[1;34m()\u001b[0m\n\u001b[0;32m      3\u001b[0m \u001b[38;5;28;01mdef\u001b[39;00m \u001b[38;5;21mfun\u001b[39m():\n\u001b[1;32m----> 4\u001b[0m     global_var\u001b[38;5;241m=\u001b[39m\u001b[38;5;241m200\u001b[39m\u001b[38;5;241m*\u001b[39mglobal_var\n\u001b[0;32m      5\u001b[0m     \u001b[38;5;28mprint\u001b[39m(local_var)\n\u001b[0;32m      6\u001b[0m     \u001b[38;5;28mprint\u001b[39m(global_var)\n",
      "\u001b[1;31mUnboundLocalError\u001b[0m: cannot access local variable 'global_var' where it is not associated with a value"
     ]
    }
   ],
   "source": [
    "global_var=100\n",
    "\n",
    "def fun():\n",
    "    global_var=200*global_var\n",
    "    print(local_var)\n",
    "    print(global_var)\n",
    "    \n",
    "fun()\n",
    "print(global_var)\n"
   ]
  },
  {
   "cell_type": "code",
   "execution_count": 69,
   "id": "ad0a2253",
   "metadata": {},
   "outputs": [
    {
     "name": "stdout",
     "output_type": "stream",
     "text": [
      "100\n",
      "2\n",
      "2\n"
     ]
    }
   ],
   "source": [
    "global_var=100\n",
    "print(global_var)\n",
    "\n",
    "def fun():\n",
    "    global global_var\n",
    "    global_var=2\n",
    "    print(global_var)\n",
    "    \n",
    "fun()\n",
    "print(global_var)"
   ]
  },
  {
   "cell_type": "code",
   "execution_count": 83,
   "id": "9ae8df16",
   "metadata": {},
   "outputs": [
    {
     "name": "stdout",
     "output_type": "stream",
     "text": [
      "coming\n"
     ]
    }
   ],
   "source": [
    "def add_string(str1):\n",
    "    if len(str1)<3:\n",
    "        pass\n",
    "    elif \"ing\" in str1[-3:]:\n",
    "        str1=str1+\"ly\"\n",
    "    else:\n",
    "        str1=str1+\"ing\"\n",
    "        \n",
    "    return str1\n",
    "\n",
    "str1=\"com\"\n",
    "print(add_string(str1))"
   ]
  },
  {
   "cell_type": "code",
   "execution_count": 88,
   "id": "9a2fb046",
   "metadata": {},
   "outputs": [
    {
     "name": "stdout",
     "output_type": "stream",
     "text": [
      "70.0\n",
      "[2, 5, 12, 18, 18, 20, 20, 21, 24, 25]\n"
     ]
    }
   ],
   "source": [
    "def find_more_than_average(list_of_marks):\n",
    "    sum=0\n",
    "    count=0\n",
    "    avg=0\n",
    "    for mark in list_of_marks:\n",
    "        sum+=mark\n",
    "    avg=sum/len(list_of_marks)\n",
    "    for mark in list_of_marks:\n",
    "        if mark>avg:\n",
    "            count+=1\n",
    "    percent=(count/len(list_of_marks))*100\n",
    "    return percent\n",
    "\n",
    "def sort_marks(list_of_marks):\n",
    "    return sorted(list_of_marks)\n",
    "    \n",
    "list_of_marks=(12,18,25,24,2,5,18,20,20,21)\n",
    "print(find_more_than_average(list_of_marks))\n",
    "print(sort_marks(list_of_marks))"
   ]
  },
  {
   "cell_type": "code",
   "execution_count": 93,
   "id": "9fb446ac",
   "metadata": {},
   "outputs": [
    {
     "name": "stdout",
     "output_type": "stream",
     "text": [
      "[8, 3]\n"
     ]
    }
   ],
   "source": [
    "def alphanumeeric(sentence):\n",
    "    alpha=\"abcdefghijklmnopqrstuvwABCDEFGHIJKLMNOPQRSTUVWQYZ\"\n",
    "    numeric=\"123456789\"\n",
    "    counta=0\n",
    "    countn=0\n",
    "    final_list=[]\n",
    "    for c in sentence:\n",
    "        if c in alpha:\n",
    "            counta+=1\n",
    "        elif c in numeric:\n",
    "            countn+=1\n",
    "        else:\n",
    "            pass\n",
    "    final_list=[counta,countn]\n",
    "    return final_list\n",
    "\n",
    "sentence=\"Deloitte 123\"\n",
    "print(alphanumeeric(sentence))\n",
    "    "
   ]
  },
  {
   "cell_type": "code",
   "execution_count": 106,
   "id": "4724032f",
   "metadata": {},
   "outputs": [
    {
     "name": "stdout",
     "output_type": "stream",
     "text": [
      "True\n"
     ]
    }
   ],
   "source": [
    "def bracket_pattern(input_str):\n",
    "    open=0\n",
    "    close=0\n",
    "    if input_str[0]==\")\" or input_str[-1]==\"(\":\n",
    "            return False\n",
    "    for i in input_str:\n",
    "        if i==\"(\":\n",
    "            open+=1\n",
    "        else:\n",
    "            close+=1\n",
    "    if(open==close):\n",
    "        return True\n",
    "    else:\n",
    "        return False\n",
    "input_str=\"()()(())\"\n",
    "print(bracket_pattern(input_str))"
   ]
  },
  {
   "cell_type": "code",
   "execution_count": 117,
   "id": "aacfc5ef",
   "metadata": {},
   "outputs": [
    {
     "name": "stdout",
     "output_type": "stream",
     "text": [
      "False\n"
     ]
    }
   ],
   "source": [
    "def list123(nums):\n",
    "    str1=\"\"\n",
    "    for i in nums:\n",
    "        str1+=str(i)\n",
    "    if \"123\" in str1:\n",
    "        return True\n",
    "    else:\n",
    "        return False\n",
    "    \n",
    "nums=[1,1,2,4,3,1]\n",
    "print(list123(nums))   "
   ]
  },
  {
   "cell_type": "code",
   "execution_count": 122,
   "id": "e2ffc331",
   "metadata": {},
   "outputs": [
    {
     "name": "stdout",
     "output_type": "stream",
     "text": [
      "abcdefghigklmnopqrstuvwxy\n",
      "z\n"
     ]
    }
   ],
   "source": [
    "def findmissing(word):\n",
    "    str=\"\"\n",
    "    alpha=\"abcdefghigklmnopqrstuvwxyz\"\n",
    "    for i in alpha:\n",
    "        if i not in word:\n",
    "            str=str+i\n",
    "    return str\n",
    "\n",
    "            \n",
    "    \n",
    "word=str(input())\n",
    "print(findmissing(word))"
   ]
  },
  {
   "cell_type": "code",
   "execution_count": null,
   "id": "1d0a5af8",
   "metadata": {},
   "outputs": [],
   "source": []
  }
 ],
 "metadata": {
  "kernelspec": {
   "display_name": "Python 3 (ipykernel)",
   "language": "python",
   "name": "python3"
  },
  "language_info": {
   "codemirror_mode": {
    "name": "ipython",
    "version": 3
   },
   "file_extension": ".py",
   "mimetype": "text/x-python",
   "name": "python",
   "nbconvert_exporter": "python",
   "pygments_lexer": "ipython3",
   "version": "3.11.5"
  }
 },
 "nbformat": 4,
 "nbformat_minor": 5
}
