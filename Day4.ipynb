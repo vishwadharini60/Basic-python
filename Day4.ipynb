{
 "cells": [
  {
   "cell_type": "code",
   "execution_count": 11,
   "id": "598e7983",
   "metadata": {},
   "outputs": [
    {
     "name": "stdout",
     "output_type": "stream",
     "text": [
      "0\n",
      "First line\n",
      "second lineHello\n",
      "28\n"
     ]
    }
   ],
   "source": [
    "# file handling\n",
    "\n",
    "# read only mode\n",
    "\n",
    "f=open('file1.txt','r')\n",
    "print(f.tell())\n",
    "z=f.read()\n",
    "print(z)\n",
    "print(f.tell())\n",
    "f.close()"
   ]
  },
  {
   "cell_type": "code",
   "execution_count": 33,
   "id": "5a744fb6",
   "metadata": {},
   "outputs": [
    {
     "name": "stdout",
     "output_type": "stream",
     "text": [
      "0\n",
      "Hello line\n",
      "second lineHelloappend at the end\n",
      "45\n"
     ]
    },
    {
     "ename": "UnsupportedOperation",
     "evalue": "not writable",
     "output_type": "error",
     "traceback": [
      "\u001b[1;31m---------------------------------------------------------------------------\u001b[0m",
      "\u001b[1;31mUnsupportedOperation\u001b[0m                      Traceback (most recent call last)",
      "Cell \u001b[1;32mIn[33], line 8\u001b[0m\n\u001b[0;32m      6\u001b[0m \u001b[38;5;28mprint\u001b[39m(z)\n\u001b[0;32m      7\u001b[0m \u001b[38;5;28mprint\u001b[39m(f\u001b[38;5;241m.\u001b[39mtell())\n\u001b[1;32m----> 8\u001b[0m f\u001b[38;5;241m.\u001b[39mwrite(\u001b[38;5;124m\"\u001b[39m\u001b[38;5;124mHello\u001b[39m\u001b[38;5;124m\"\u001b[39m)\n\u001b[0;32m      9\u001b[0m \u001b[38;5;28mprint\u001b[39m(f\u001b[38;5;241m.\u001b[39mtell())\n\u001b[0;32m     10\u001b[0m f\u001b[38;5;241m.\u001b[39mclose()\n",
      "\u001b[1;31mUnsupportedOperation\u001b[0m: not writable"
     ]
    }
   ],
   "source": [
    "# writing in read only mode \n",
    "\n",
    "f=open('file1.txt','r')\n",
    "print(f.tell())\n",
    "z=f.read()\n",
    "print(z)\n",
    "print(f.tell())\n",
    "f.write(\"Hello\")\n",
    "print(f.tell())\n",
    "f.close()"
   ]
  },
  {
   "cell_type": "code",
   "execution_count": 13,
   "id": "4d500065",
   "metadata": {},
   "outputs": [
    {
     "name": "stdout",
     "output_type": "stream",
     "text": [
      "0\n",
      "First line\n",
      "second line\n",
      "23\n",
      "28\n"
     ]
    }
   ],
   "source": [
    "# read and write mode\n",
    "\n",
    "f=open('file1.txt','r+')\n",
    "print(f.tell())\n",
    "z=f.read()\n",
    "print(z)\n",
    "print(f.tell())\n",
    "f.write(\"Hello\")\n",
    "print(f.tell())\n",
    "f.close()"
   ]
  },
  {
   "cell_type": "code",
   "execution_count": null,
   "id": "8b49213c",
   "metadata": {},
   "outputs": [],
   "source": []
  },
  {
   "cell_type": "code",
   "execution_count": 15,
   "id": "5d15d58a",
   "metadata": {},
   "outputs": [
    {
     "name": "stdout",
     "output_type": "stream",
     "text": [
      "Hello line\n",
      "second lineHello\n"
     ]
    }
   ],
   "source": [
    "# to read after writing use seek and set cursor to where you want to read since after write cursor will be in the eof\n",
    "\n",
    "f=open('file1.txt','r+')\n",
    "f.write(\"Hello\")\n",
    "f.seek(0)\n",
    "z=f.read()\n",
    "print(z)\n",
    "f.close()"
   ]
  },
  {
   "cell_type": "code",
   "execution_count": 18,
   "id": "b8248b36",
   "metadata": {},
   "outputs": [],
   "source": [
    "# write only mode\n",
    "\n",
    "f=open('file1.text','w')\n",
    "f.write(\"write turnicates everything nd writes\")\n",
    "f.close()"
   ]
  },
  {
   "cell_type": "code",
   "execution_count": 19,
   "id": "ecf126ac",
   "metadata": {},
   "outputs": [
    {
     "ename": "UnsupportedOperation",
     "evalue": "not readable",
     "output_type": "error",
     "traceback": [
      "\u001b[1;31m---------------------------------------------------------------------------\u001b[0m",
      "\u001b[1;31mUnsupportedOperation\u001b[0m                      Traceback (most recent call last)",
      "Cell \u001b[1;32mIn[19], line 4\u001b[0m\n\u001b[0;32m      2\u001b[0m f\u001b[38;5;241m.\u001b[39mwrite(\u001b[38;5;124m\"\u001b[39m\u001b[38;5;124mwrite turnicates everything nd writes\u001b[39m\u001b[38;5;124m\"\u001b[39m)\n\u001b[0;32m      3\u001b[0m f\u001b[38;5;241m.\u001b[39mseek(\u001b[38;5;241m0\u001b[39m)\n\u001b[1;32m----> 4\u001b[0m z\u001b[38;5;241m=\u001b[39mf\u001b[38;5;241m.\u001b[39mread()\n\u001b[0;32m      5\u001b[0m \u001b[38;5;28mprint\u001b[39m(z)\n\u001b[0;32m      6\u001b[0m f\u001b[38;5;241m.\u001b[39mclose()\n",
      "\u001b[1;31mUnsupportedOperation\u001b[0m: not readable"
     ]
    }
   ],
   "source": [
    "#cannot read in write only mode\n",
    "\n",
    "f=open('file1.text','w')\n",
    "f.write(\"write turnicates everything nd writes\")\n",
    "f.seek(0)\n",
    "z=f.read()\n",
    "print(z)\n",
    "f.close()"
   ]
  },
  {
   "cell_type": "code",
   "execution_count": 20,
   "id": "3affc97a",
   "metadata": {},
   "outputs": [
    {
     "name": "stdout",
     "output_type": "stream",
     "text": [
      "write turnicates everything nd writes\n"
     ]
    }
   ],
   "source": [
    "# write and read mode\n",
    "\n",
    "f=open('file1.text','w+')\n",
    "f.write(\"write turnicates everything nd writes\")\n",
    "f.seek(0)\n",
    "z=f.read()\n",
    "print(z)\n",
    "f.close()"
   ]
  },
  {
   "cell_type": "code",
   "execution_count": 22,
   "id": "03cac871",
   "metadata": {},
   "outputs": [],
   "source": [
    "#append only\n",
    "\n",
    "f=open('file1.text','a')\n",
    "f.write(\"append at the end\")\n",
    "f.close()"
   ]
  },
  {
   "cell_type": "code",
   "execution_count": 21,
   "id": "bcd1b346",
   "metadata": {},
   "outputs": [
    {
     "ename": "UnsupportedOperation",
     "evalue": "not readable",
     "output_type": "error",
     "traceback": [
      "\u001b[1;31m---------------------------------------------------------------------------\u001b[0m",
      "\u001b[1;31mUnsupportedOperation\u001b[0m                      Traceback (most recent call last)",
      "Cell \u001b[1;32mIn[21], line 6\u001b[0m\n\u001b[0;32m      4\u001b[0m f\u001b[38;5;241m.\u001b[39mwrite(\u001b[38;5;124m\"\u001b[39m\u001b[38;5;124mappend at the end\u001b[39m\u001b[38;5;124m\"\u001b[39m)\n\u001b[0;32m      5\u001b[0m f\u001b[38;5;241m.\u001b[39mseek(\u001b[38;5;241m0\u001b[39m)\n\u001b[1;32m----> 6\u001b[0m z\u001b[38;5;241m=\u001b[39mf\u001b[38;5;241m.\u001b[39mread()\n\u001b[0;32m      7\u001b[0m \u001b[38;5;28mprint\u001b[39m(z)\n\u001b[0;32m      8\u001b[0m f\u001b[38;5;241m.\u001b[39mclose()\n",
      "\u001b[1;31mUnsupportedOperation\u001b[0m: not readable"
     ]
    }
   ],
   "source": [
    "# append doesnt allow to use read or write\n",
    "\n",
    "f=open('file1.text','a')\n",
    "f.write(\"append at the end\")\n",
    "f.seek(0)\n",
    "z=f.read()\n",
    "print(z)\n",
    "f.close()"
   ]
  },
  {
   "cell_type": "code",
   "execution_count": 31,
   "id": "04df3185",
   "metadata": {},
   "outputs": [
    {
     "name": "stdout",
     "output_type": "stream",
     "text": [
      "Hello line\n",
      "second lineHelloappend at the end\n"
     ]
    }
   ],
   "source": [
    "# append only\n",
    "# can use read and write\n",
    "\n",
    "f=open('file1.txt','a+')\n",
    "f.write(\"append at the end\")\n",
    "f.seek(0)\n",
    "z=f.read()\n",
    "print(z)\n",
    "f.close()"
   ]
  },
  {
   "cell_type": "code",
   "execution_count": 32,
   "id": "ac9161cc",
   "metadata": {},
   "outputs": [
    {
     "name": "stdout",
     "output_type": "stream",
     "text": [
      "11\n",
      "\n"
     ]
    }
   ],
   "source": [
    "#doesnt read since after write the corsor is in the end of file nd theres nothing to read\n",
    "\n",
    "f=open('file2.txt','w+')\n",
    "f.write(\"hello there\")\n",
    "z=f.read()\n",
    "print(f.tell())\n",
    "print(z)\n",
    "f.close()"
   ]
  },
  {
   "cell_type": "code",
   "execution_count": 36,
   "id": "05144695",
   "metadata": {},
   "outputs": [
    {
     "name": "stdout",
     "output_type": "stream",
     "text": [
      "12\n",
      "Hello line\n",
      "\n"
     ]
    }
   ],
   "source": [
    "#readline reads one line\n",
    "\n",
    "f=open('file1.txt','r+')\n",
    "z=f.readline()\n",
    "print(z)\n",
    "f.close()"
   ]
  },
  {
   "cell_type": "code",
   "execution_count": 37,
   "id": "01b46caf",
   "metadata": {},
   "outputs": [
    {
     "name": "stdout",
     "output_type": "stream",
     "text": [
      "['Hello line\\n', 'second lineHelloappend at the end']\n"
     ]
    }
   ],
   "source": [
    "#readlines reads all and returns in list\n",
    "\n",
    "f=open('file1.txt','r+')\n",
    "z=f.readlines()\n",
    "print(z)\n",
    "f.close()"
   ]
  },
  {
   "cell_type": "code",
   "execution_count": 42,
   "id": "4f69ae75",
   "metadata": {},
   "outputs": [
    {
     "name": "stdout",
     "output_type": "stream",
     "text": [
      "second lineHelloappend at the end\n"
     ]
    }
   ],
   "source": [
    "f=open('file1.txt','r+')\n",
    "z=f.readlines()[1]\n",
    "print(z)\n",
    "f.close()"
   ]
  },
  {
   "cell_type": "code",
   "execution_count": 43,
   "id": "7dc08b60",
   "metadata": {},
   "outputs": [
    {
     "name": "stdout",
     "output_type": "stream",
     "text": [
      "e\n"
     ]
    }
   ],
   "source": [
    "f=open('file1.txt','r+')\n",
    "z=f.readline()[1]\n",
    "print(z)\n",
    "f.close()"
   ]
  },
  {
   "cell_type": "code",
   "execution_count": 45,
   "id": "6916a012",
   "metadata": {},
   "outputs": [
    {
     "name": "stdout",
     "output_type": "stream",
     "text": [
      "l\n"
     ]
    }
   ],
   "source": [
    "#line and letter\n",
    "\n",
    "f=open('file1.txt','r+')\n",
    "z=f.readlines()[0][3]\n",
    "print(z)\n",
    "f.close()"
   ]
  },
  {
   "cell_type": "code",
   "execution_count": 6,
   "id": "70c4a26c",
   "metadata": {},
   "outputs": [
    {
     "name": "stdout",
     "output_type": "stream",
     "text": [
      "hellohow are yound lineHelloappend at the end\n"
     ]
    }
   ],
   "source": [
    "f=open('file1.txt','r+')\n",
    "f.writelines([\"hello\",\"how are you\"])\n",
    "f.seek(0)\n",
    "z=f.read()\n",
    "print(z)\n",
    "f.close()"
   ]
  },
  {
   "cell_type": "code",
   "execution_count": 8,
   "id": "d312235e",
   "metadata": {},
   "outputs": [
    {
     "name": "stdout",
     "output_type": "stream",
     "text": [
      "hello\n",
      "how are you\n",
      "ineHelloappend at the end\n"
     ]
    }
   ],
   "source": [
    "f=open('file1.txt','r+')\n",
    "f.writelines([\"hello\\n\",\"how are you\\n\"])\n",
    "f.seek(0)\n",
    "z=f.read()\n",
    "print(z)\n",
    "f.close()"
   ]
  },
  {
   "cell_type": "code",
   "execution_count": 3,
   "id": "d280564f",
   "metadata": {},
   "outputs": [
    {
     "name": "stdout",
     "output_type": "stream",
     "text": [
      "b'hello there'\n"
     ]
    }
   ],
   "source": [
    "f=open('file1.bin','wb+')\n",
    "f.write(b\"hello there\")\n",
    "f.seek(0)\n",
    "z=f.read()\n",
    "print(z)\n",
    "f.close()"
   ]
  },
  {
   "cell_type": "code",
   "execution_count": 19,
   "id": "d545c557",
   "metadata": {},
   "outputs": [
    {
     "name": "stdout",
     "output_type": "stream",
     "text": [
      "[1, 5]\n",
      "[1, 5]\n"
     ]
    }
   ],
   "source": [
    "list1=[1,2,3,4,5]\n",
    "list2=[1,5,6,7,8]\n",
    "list3=[]\n",
    "\n",
    "for i in list1:\n",
    "    if i in list2:\n",
    "        list3.append(i)\n",
    "print(list3)\n",
    "\n",
    "\n",
    "\n",
    "set1=set(list1)\n",
    "set2=set(list2)\n",
    "print(list(set1&set2))   "
   ]
  },
  {
   "cell_type": "code",
   "execution_count": 12,
   "id": "485042e7",
   "metadata": {},
   "outputs": [
    {
     "name": "stdout",
     "output_type": "stream",
     "text": [
      "list is not sorted in ascending\n"
     ]
    }
   ],
   "source": [
    "listA=[1,2,3,4,5]\n",
    "listB=sorted(listA)\n",
    "if listA==listB:\n",
    "    print(\"Listed is sorted in ascending\")\n",
    "else:\n",
    "    print(\"list is not sorted in ascending\")"
   ]
  },
  {
   "cell_type": "code",
   "execution_count": 16,
   "id": "0026221c",
   "metadata": {},
   "outputs": [
    {
     "name": "stdout",
     "output_type": "stream",
     "text": [
      "count of 1 is 3\n",
      "count of 2 is 2\n",
      "count of 3 is 1\n"
     ]
    }
   ],
   "source": [
    "listC=[1,2,3,1,1,2]\n",
    "setc=set(listC)\n",
    "for i in setc:\n",
    "    print(f\"count of {i} is {listC.count(i)}\")\n",
    "    "
   ]
  },
  {
   "cell_type": "code",
   "execution_count": 20,
   "id": "07819a79",
   "metadata": {},
   "outputs": [
    {
     "name": "stdout",
     "output_type": "stream",
     "text": [
      "[1, 2, 3, 4, 5, 6, 7, 8]\n"
     ]
    }
   ],
   "source": [
    "listA=[1,2,3,4]\n",
    "listB=[5,6,7,8]\n",
    "listC=listA+listB\n",
    "print(listC)"
   ]
  },
  {
   "cell_type": "code",
   "execution_count": 24,
   "id": "4ec7de46",
   "metadata": {},
   "outputs": [
    {
     "name": "stdout",
     "output_type": "stream",
     "text": [
      "Smallest number: 1\n",
      "Largest number: 9\n",
      "Smallest number: 1\n",
      "Largest number: 9\n"
     ]
    }
   ],
   "source": [
    "list1=[1,4,3,7,9,4]\n",
    "print(f'Smallest number: {min(list1)}')\n",
    "print(f'Largest number: {max(list1)}')\n",
    "\n",
    "list1=[1,4,3,7,9,4]\n",
    "list1.sort()\n",
    "print(f'Smallest number: {list1[0]}')\n",
    "print(f'Largest number: {list1[-1]}')"
   ]
  },
  {
   "cell_type": "code",
   "execution_count": 29,
   "id": "9f7703e9",
   "metadata": {},
   "outputs": [
    {
     "name": "stdout",
     "output_type": "stream",
     "text": [
      "{1, 5}\n"
     ]
    }
   ],
   "source": [
    "set1={1,2,3,4,5}\n",
    "set2={1,5,6,7,8}\n",
    "\n",
    "print(set1&set2)"
   ]
  },
  {
   "cell_type": "code",
   "execution_count": 32,
   "id": "c9f4d033",
   "metadata": {},
   "outputs": [
    {
     "name": "stdout",
     "output_type": "stream",
     "text": [
      "{'a': 1, 'b': 3, 'c': 2, ' ': 1, 'B': 1}\n"
     ]
    }
   ],
   "source": [
    "word=\"abbc Bbc\"\n",
    "dict1={}\n",
    "for i in word:\n",
    "    dict1[i]=word.count(i)\n",
    "print(dict1)\n",
    "    "
   ]
  },
  {
   "cell_type": "code",
   "execution_count": 33,
   "id": "7ecd0ffa",
   "metadata": {},
   "outputs": [
    {
     "name": "stdout",
     "output_type": "stream",
     "text": [
      "union:{1, 2, 3, 4, 5, 6, 7, 8}\n",
      "intersection:{1, 5}\n",
      "difference:{2, 3, 4}\n"
     ]
    }
   ],
   "source": [
    "set1={1,2,3,4,5}\n",
    "set2={1,5,6,7,8}\n",
    "\n",
    "print(f'union:{set1|set2}')\n",
    "print(f'intersection:{set1&set2}')\n",
    "print(f'difference:{set1-set2}')"
   ]
  },
  {
   "cell_type": "code",
   "execution_count": 35,
   "id": "bcd5fd8f",
   "metadata": {},
   "outputs": [
    {
     "name": "stdout",
     "output_type": "stream",
     "text": [
      "deleted key is 2 and value is b\n"
     ]
    }
   ],
   "source": [
    "def key_del(k,dict1):\n",
    "    print(f'deleted key is {k} and value is {dict1.pop(k)}')\n",
    "    \n",
    "dictV={1:'a',2:'b',3:'c'}\n",
    "key_del(2,dictV)"
   ]
  },
  {
   "cell_type": "code",
   "execution_count": 40,
   "id": "a71bf730",
   "metadata": {},
   "outputs": [
    {
     "name": "stdout",
     "output_type": "stream",
     "text": [
      "{1: 2, 2: 1, 3: 2, 4: 3}\n"
     ]
    }
   ],
   "source": [
    "listA=[1,2,3,4]\n",
    "listB=[5,6,7,8,1,3,1,4,3,2,4,4]\n",
    "dict1={}\n",
    "\n",
    "for i in listA:\n",
    "    dict1[i]=listB.count(i)\n",
    "    \n",
    "print(dict1)\n",
    "    "
   ]
  },
  {
   "cell_type": "code",
   "execution_count": 51,
   "id": "1fd4dce3",
   "metadata": {},
   "outputs": [
    {
     "name": "stdout",
     "output_type": "stream",
     "text": [
      "solar system\n",
      "earth\n",
      "india\n"
     ]
    }
   ],
   "source": [
    "str1=\"solar system,earth,india\"\n",
    "str_split=str1.split(\",\")\n",
    "print(\"\\n\".join(str_split))"
   ]
  },
  {
   "cell_type": "code",
   "execution_count": 61,
   "id": "a8e46614",
   "metadata": {},
   "outputs": [
    {
     "name": "stdout",
     "output_type": "stream",
     "text": [
      "easy very is python learning\n"
     ]
    }
   ],
   "source": [
    "str1=\"learning python is very easy\"\n",
    "str1_list=str1.split()\n",
    "rev=str1_list[::-1]\n",
    "print(\" \".join(rev))"
   ]
  },
  {
   "cell_type": "code",
   "execution_count": 81,
   "id": "dc7f091d",
   "metadata": {},
   "outputs": [
    {
     "name": "stdout",
     "output_type": "stream",
     "text": [
      "zzzzbbccc\n"
     ]
    }
   ],
   "source": [
    "inp=\"az4b2c3\"\n",
    "res=\"\"\n",
    "for i in range(0,len(inp)):\n",
    "    if inp[i].isalpha():\n",
    "        if inp[i+1].isdigit():\n",
    "            res=res+(inp[i]*int(inp[i+1]))\n",
    "        else:\n",
    "            pass\n",
    "    else:\n",
    "        pass\n",
    "            \n",
    "print(res)\n"
   ]
  },
  {
   "cell_type": "code",
   "execution_count": 78,
   "id": "65c12a80",
   "metadata": {},
   "outputs": [
    {
     "name": "stdout",
     "output_type": "stream",
     "text": [
      "A-2\n",
      "B-2\n",
      "C-2\n",
      "D-2\n"
     ]
    }
   ],
   "source": [
    "str1=\"ABCDABCD\"\n",
    "copy=\"\"\n",
    "for i in range(0,len(str1)):\n",
    "    if str1[i] in copy:\n",
    "        pass\n",
    "    else:\n",
    "        copy=copy+str1[i]\n",
    "        \n",
    "for i in copy:\n",
    "    print(f'{i}-{str1.count(i)}')\n"
   ]
  },
  {
   "cell_type": "code",
   "execution_count": 105,
   "id": "ebe78ef9",
   "metadata": {},
   "outputs": [
    {
     "name": "stdout",
     "output_type": "stream",
     "text": [
      "Enter a number:13\n",
      "11\n"
     ]
    }
   ],
   "source": [
    "def prime(n):\n",
    "    listn=[]\n",
    "    for num in range(1, n):\n",
    "        if num > 1:  \n",
    "            for i in range(2, num):\n",
    "                if num % i == 0:\n",
    "                    break  \n",
    "            else:\n",
    "                listn.append(num) \n",
    "    return max(listn)\n",
    "         \n",
    "\n",
    "x=int(input(\"Enter a number:\"))\n",
    "print(prime(x))\n"
   ]
  },
  {
   "cell_type": "code",
   "execution_count": 108,
   "id": "5442014e",
   "metadata": {},
   "outputs": [
    {
     "name": "stdout",
     "output_type": "stream",
     "text": [
      "[4, 5, 6]\n"
     ]
    }
   ],
   "source": [
    "def findcommon(lista,listb):\n",
    "    ans=[]\n",
    "    for i in lista:\n",
    "        if i in listb:\n",
    "            ans.append(i)\n",
    "        else:\n",
    "            pass\n",
    "    return ans\n",
    "\n",
    "list1=[1,2,3,4,5,6]\n",
    "list2=[4,5,6,7,8,9]\n",
    "print(findcommon(list1,list2))"
   ]
  },
  {
   "cell_type": "code",
   "execution_count": 113,
   "id": "ff1a89ca",
   "metadata": {},
   "outputs": [
    {
     "name": "stdout",
     "output_type": "stream",
     "text": [
      "not leap year\n"
     ]
    }
   ],
   "source": [
    "def leap(n):\n",
    "    if n%4==0:\n",
    "        print(\"leap year\")\n",
    "    else:\n",
    "        print(\"not leap year\")\n",
    "\n",
    "leap(2021)"
   ]
  },
  {
   "cell_type": "code",
   "execution_count": 125,
   "id": "30c994e5",
   "metadata": {},
   "outputs": [
    {
     "name": "stdout",
     "output_type": "stream",
     "text": [
      "[1, 500, 6, 9]\n",
      "516\n"
     ]
    }
   ],
   "source": [
    "import functools\n",
    "\n",
    "list1=[1,500,-5,6,-7,9,-100]\n",
    "\n",
    "x=list(filter(lambda n:n>=0,list1))\n",
    "z=functools.reduce(lambda a,b:a+b,x)\n",
    "print(z)"
   ]
  },
  {
   "cell_type": "code",
   "execution_count": 133,
   "id": "048a6d48",
   "metadata": {},
   "outputs": [
    {
     "name": "stdout",
     "output_type": "stream",
     "text": [
      "516\n"
     ]
    }
   ],
   "source": [
    "def positivesum(list1):\n",
    "    ans=0\n",
    "    for i in list1:\n",
    "        if i>0:\n",
    "            ans=ans+i\n",
    "        else:\n",
    "            pass\n",
    "    return ans\n",
    "\n",
    "list1=[1,500,-5,6,-7,9,-100]\n",
    "print(positivesum(list1))"
   ]
  },
  {
   "cell_type": "code",
   "execution_count": 130,
   "id": "0f36e0ae",
   "metadata": {},
   "outputs": [
    {
     "name": "stdout",
     "output_type": "stream",
     "text": [
      "[1, 9, 16, 25, 100]\n"
     ]
    }
   ],
   "source": [
    "list1=[1,3,4,5,10]\n",
    "s_list=[]\n",
    "def square(list1):\n",
    "    for i in list1:\n",
    "        s_list.append(i**2)\n",
    "    return s_list\n",
    "\n",
    "print(square(list1))"
   ]
  },
  {
   "cell_type": "code",
   "execution_count": 135,
   "id": "450bce77",
   "metadata": {},
   "outputs": [
    {
     "name": "stdout",
     "output_type": "stream",
     "text": [
      "8\n"
     ]
    }
   ],
   "source": [
    "def cal_area(l,w):\n",
    "    area=l*w\n",
    "    return area\n",
    "\n",
    "print(cal_area(2,4))"
   ]
  },
  {
   "cell_type": "code",
   "execution_count": 138,
   "id": "95310cc1",
   "metadata": {},
   "outputs": [
    {
     "name": "stdout",
     "output_type": "stream",
     "text": [
      "8\n"
     ]
    }
   ],
   "source": [
    "\n",
    "ans=lambda l,w:l*w\n",
    "print(ans(2,4))\n"
   ]
  },
  {
   "cell_type": "code",
   "execution_count": 139,
   "id": "e6d1c7b3",
   "metadata": {},
   "outputs": [
    {
     "name": "stdout",
     "output_type": "stream",
     "text": [
      "[0][1]\n"
     ]
    }
   ],
   "source": [
    "x=[[0],[1]]\n",
    "print((''.join(list(map(str,x)))))"
   ]
  },
  {
   "cell_type": "code",
   "execution_count": 187,
   "id": "813276a5",
   "metadata": {},
   "outputs": [
    {
     "name": "stdout",
     "output_type": "stream",
     "text": [
      "['a', 'girl', 'is', 'playing']\n",
      "['she', 'is', 'in', 'a', 'playground']\n",
      "['the', 'sky', 'is', 'in', 'the', 'sky']\n",
      "['the', 'baloon', 'is', 'blue']\n",
      "25\n"
     ]
    }
   ],
   "source": [
    "articles=[\"a\",\"an\",\"the\"]\n",
    "f=open('test.txt','w+')\n",
    "f.writelines([\"A girl is playing\\n\",\"She is in a playground\\n\",\"The sky is in the sky\\n\",\"The baloon is blue\"])\n",
    "f.close()\n",
    "\n",
    "f=open('test.txt','r')\n",
    "z=f.read()\n",
    "list_of_lines=z.split(\"\\n\")\n",
    "\n",
    "for sentence in list_of_lines:\n",
    "    word_split=sentence.lower().split()\n",
    "    print(word_split)\n",
    "    count=count+word_split.count('a')+ word_split.count('an') + word_split.count('the')\n",
    "print(count)\n",
    "\n",
    "f.close()"
   ]
  },
  {
   "cell_type": "code",
   "execution_count": null,
   "id": "29998b48",
   "metadata": {},
   "outputs": [],
   "source": []
  }
 ],
 "metadata": {
  "kernelspec": {
   "display_name": "Python 3 (ipykernel)",
   "language": "python",
   "name": "python3"
  },
  "language_info": {
   "codemirror_mode": {
    "name": "ipython",
    "version": 3
   },
   "file_extension": ".py",
   "mimetype": "text/x-python",
   "name": "python",
   "nbconvert_exporter": "python",
   "pygments_lexer": "ipython3",
   "version": "3.11.5"
  }
 },
 "nbformat": 4,
 "nbformat_minor": 5
}
