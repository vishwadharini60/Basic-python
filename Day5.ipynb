{
 "cells": [
  {
   "cell_type": "code",
   "execution_count": 15,
   "id": "faca46e2",
   "metadata": {},
   "outputs": [
    {
     "name": "stdout",
     "output_type": "stream",
     "text": [
      "['1', 'luffy', '1000']\n",
      "['2', 'zoro', '2000']\n",
      "['3', 'sanji', '3000']\n"
     ]
    }
   ],
   "source": [
    "import csv\n",
    "\n",
    "with open('day5.csv','r') as f:\n",
    "    csv_reader=csv.reader(f)\n",
    "    for i in csv_reader:\n",
    "        print(i)"
   ]
  },
  {
   "cell_type": "code",
   "execution_count": 8,
   "id": "1058f68d",
   "metadata": {},
   "outputs": [
    {
     "name": "stdout",
     "output_type": "stream",
     "text": [
      "<_csv.reader object at 0x000001D9F7F23E20>\n",
      "[['1', 'loki', '1000'], ['2', 'thor', '2000'], ['3', 'hela', '3000']]\n"
     ]
    }
   ],
   "source": [
    "#cvs.reader returns reader object and it can be accessed only once\n",
    "#next() prints from 2nd column\n",
    "\n",
    "with open('day5.csv','r',newline='') as f:\n",
    "    csv_reader=csv.reader(f)\n",
    "    next(csv_reader)\n",
    "    print(csv_reader)       #reader object\n",
    "    print(list(csv_reader))\n",
    "    \n",
    "    for row in csv_reader:   #since we accessed above we cannot access reader object again\n",
    "        print(row)"
   ]
  },
  {
   "cell_type": "code",
   "execution_count": 84,
   "id": "bedf3ab7",
   "metadata": {},
   "outputs": [],
   "source": [
    "\n",
    "with open('day5.csv','w',newline='') as of:\n",
    "    csv_writer=csv.writer(of)\n",
    "    csv_writer.writerow(['EID','ENAME','ESAL'])\n",
    "    csv_writer.writerow(['1','luffy','1000'])\n",
    "    csv_writer.writerow(['2','zoro','2000'])\n",
    "    csv_writer.writerow(['3','sanji','3000'])"
   ]
  },
  {
   "cell_type": "code",
   "execution_count": 85,
   "id": "e181cb47",
   "metadata": {
    "scrolled": true
   },
   "outputs": [
    {
     "name": "stdout",
     "output_type": "stream",
     "text": [
      "['EID', 'ENAME', 'ESAL']\n",
      "['1', 'luffy', '1000']\n",
      "['2', 'zoro', '2000']\n",
      "['3', 'sanji', '3000']\n",
      "[['EID', 'ENAME', 'ESAL'], ['1', 'luffy', '1000'], ['2', 'zoro', '2000'], ['3', 'sanji', '3000'], ['4', 'robin', '4000']]\n"
     ]
    }
   ],
   "source": [
    "x=['4','robin','4000']\n",
    "update=[]\n",
    "with open('day5.csv','r') as f:\n",
    "    csv_reader=csv.reader(f)\n",
    "    for i in csv_reader:\n",
    "        update.append(i)\n",
    "        print(i)\n",
    "    update.append(x)\n",
    "    print(update)\n",
    "        \n",
    "with open('day5.csv','w',newline='') as of:\n",
    "    csv_writer=csv.writer(of)\n",
    "    for row in update:\n",
    "        csv_writer.writerow(row)"
   ]
  },
  {
   "cell_type": "code",
   "execution_count": 86,
   "id": "6cf840d0",
   "metadata": {},
   "outputs": [],
   "source": [
    "\n",
    "update=[]\n",
    "with open('day5.csv','r') as f:\n",
    "    csv_reader=csv.DictReader(f)\n",
    "    for i in csv_reader:\n",
    "        eid=i['EID']\n",
    "        ename=f\"Mr.{i['ENAME']}\"\n",
    "        esal=i['ESAL']\n",
    "        \n",
    "        update.append({\n",
    "            'EID':eid,\n",
    "            'ENAME':ename,\n",
    "            'ESAL':esal\n",
    "        })\n",
    "\n",
    "with open('day5.csv','w',newline='') as of:\n",
    "    csv_writer=csv.DictWriter(of,fieldnames=['EID','ENAME','ESAL'])\n",
    "    csv_writer.writeheader()\n",
    "    csv_writer.writerows(update)"
   ]
  },
  {
   "cell_type": "code",
   "execution_count": 113,
   "id": "955414a6",
   "metadata": {},
   "outputs": [],
   "source": [
    "update=[]\n",
    "with open('emp.csv','r') as f:\n",
    "    csv_reader=csv.reader(f)\n",
    "    z=list(csv_reader)\n",
    "    update.append((\"name\",\"age\",\"total sal\"))\n",
    "    for i in range(1,len(z)):\n",
    "        fname=z[i][0]\n",
    "        lname=z[i][1]\n",
    "        yob=int(z[i][2])\n",
    "        sal=float(z[i][3])\n",
    "        bon=float(z[i][4])\n",
    "        update.append((fname+' '+lname,2024-yob,sal+bon))\n",
    "\n",
    "with open('updated_emp.csv','w',newline='') as of:\n",
    "    csv_writer=csv.writer(of)\n",
    "    csv_writer.writerows(update)"
   ]
  },
  {
   "cell_type": "code",
   "execution_count": 15,
   "id": "9b0c1d89",
   "metadata": {},
   "outputs": [
    {
     "name": "stdout",
     "output_type": "stream",
     "text": [
      "data updated\n"
     ]
    }
   ],
   "source": [
    "\n",
    "\n",
    "try:\n",
    "    update=[[\"full_name\",\"age\",\"total_sal\"]]\n",
    "    with open('emp.csv','r') as f:\n",
    "        csv_reader=csv.reader(f)\n",
    "        next(csv_reader)\n",
    "        for i in csv_reader:\n",
    "            fname=i[0]\n",
    "            lname=i[1]\n",
    "            full_name=fname+' '+lname\n",
    "            age=2024-int(i[2])\n",
    "            total_sal=int(i[3])+int(i[4])\n",
    "            update.append([full_name,age,total_sal])\n",
    "\n",
    "\n",
    "    with open('updated_emp.csv','w',newline='') as f:\n",
    "        csv_writer=csv.writer(f)\n",
    "        csv_writer.writerows(update)\n",
    "        \n",
    "except:\n",
    "    print(\"code not executed\")\n",
    "    \n",
    "else:\n",
    "    print(\"data updated\")\n",
    "    \n",
    "finally:\n",
    "    f.close()"
   ]
  },
  {
   "cell_type": "code",
   "execution_count": 16,
   "id": "4d79aa92",
   "metadata": {},
   "outputs": [
    {
     "name": "stdout",
     "output_type": "stream",
     "text": [
      "data updated\n"
     ]
    }
   ],
   "source": [
    "\n",
    "\n",
    "try:\n",
    "    update=[{\"full_name\":\"full_name\",\"age\":\"age\",\"total_sal\":\"total_sal\"}]\n",
    "    with open('emp.csv','r') as f:\n",
    "        csv_reader=csv.DictReader(f)\n",
    "        for i in csv_reader:\n",
    "            fname=i['firstname']\n",
    "            lname=i['lastname']\n",
    "            full_name=fname+' '+lname\n",
    "            age=2024-int(i['yob'])\n",
    "            total_sal=int(i['sal'])+int(i['bonus'])\n",
    "            update.append({\"full_name\":full_name,\"age\":age,\"total_sal\":total_sal})\n",
    "        \n",
    "    \n",
    "    with open('updated_emp.csv','w',newline='') as f:\n",
    "        keyval=['full_name','age','total_sal']\n",
    "        csv_writer=csv.DictWriter(f,keyval)\n",
    "        csv_writer.writerows(update)\n",
    "        \n",
    "except:\n",
    "    print(\"code not executed\")\n",
    "    \n",
    "else:\n",
    "    print(\"data updated\")\n",
    "    \n",
    "finally:\n",
    "    f.close()\n"
   ]
  },
  {
   "cell_type": "code",
   "execution_count": 49,
   "id": "20f1eebb",
   "metadata": {},
   "outputs": [
    {
     "data": {
      "text/html": [
       "<div>\n",
       "<style scoped>\n",
       "    .dataframe tbody tr th:only-of-type {\n",
       "        vertical-align: middle;\n",
       "    }\n",
       "\n",
       "    .dataframe tbody tr th {\n",
       "        vertical-align: top;\n",
       "    }\n",
       "\n",
       "    .dataframe thead th {\n",
       "        text-align: right;\n",
       "    }\n",
       "</style>\n",
       "<table border=\"1\" class=\"dataframe\">\n",
       "  <thead>\n",
       "    <tr style=\"text-align: right;\">\n",
       "      <th></th>\n",
       "      <th>firstname</th>\n",
       "      <th>lastname</th>\n",
       "      <th>yob</th>\n",
       "      <th>sal</th>\n",
       "      <th>bonus</th>\n",
       "    </tr>\n",
       "  </thead>\n",
       "  <tbody>\n",
       "    <tr>\n",
       "      <th>0</th>\n",
       "      <td>alice</td>\n",
       "      <td>smith</td>\n",
       "      <td>1990</td>\n",
       "      <td>50000</td>\n",
       "      <td>5000</td>\n",
       "    </tr>\n",
       "    <tr>\n",
       "      <th>1</th>\n",
       "      <td>bob</td>\n",
       "      <td>johnson</td>\n",
       "      <td>1985</td>\n",
       "      <td>60000</td>\n",
       "      <td>4000</td>\n",
       "    </tr>\n",
       "    <tr>\n",
       "      <th>2</th>\n",
       "      <td>Charlie</td>\n",
       "      <td>brow</td>\n",
       "      <td>1992</td>\n",
       "      <td>55000</td>\n",
       "      <td>3000</td>\n",
       "    </tr>\n",
       "  </tbody>\n",
       "</table>\n",
       "</div>"
      ],
      "text/plain": [
       "  firstname lastname   yob    sal  bonus\n",
       "0     alice    smith  1990  50000   5000\n",
       "1       bob  johnson  1985  60000   4000\n",
       "2   Charlie     brow  1992  55000   3000"
      ]
     },
     "execution_count": 49,
     "metadata": {},
     "output_type": "execute_result"
    }
   ],
   "source": [
    "#reading csv file using pandas\n",
    "\n",
    "import pandas as pd\n",
    "\n",
    "df=pd.read_csv('emp.csv')\n",
    "df"
   ]
  },
  {
   "cell_type": "code",
   "execution_count": 51,
   "id": "c89027fc",
   "metadata": {},
   "outputs": [
    {
     "data": {
      "text/plain": [
       "(3, 5)"
      ]
     },
     "execution_count": 51,
     "metadata": {},
     "output_type": "execute_result"
    }
   ],
   "source": [
    "df.shape"
   ]
  },
  {
   "cell_type": "code",
   "execution_count": 23,
   "id": "6739aaed",
   "metadata": {},
   "outputs": [],
   "source": [
    "#converting csv to parquet file\n",
    "\n",
    "df=pd.read_csv('emp.csv')\n",
    "df.to_parquet('emp.parquet')"
   ]
  },
  {
   "cell_type": "code",
   "execution_count": 56,
   "id": "c4031b70",
   "metadata": {},
   "outputs": [
    {
     "data": {
      "text/html": [
       "<div>\n",
       "<style scoped>\n",
       "    .dataframe tbody tr th:only-of-type {\n",
       "        vertical-align: middle;\n",
       "    }\n",
       "\n",
       "    .dataframe tbody tr th {\n",
       "        vertical-align: top;\n",
       "    }\n",
       "\n",
       "    .dataframe thead th {\n",
       "        text-align: right;\n",
       "    }\n",
       "</style>\n",
       "<table border=\"1\" class=\"dataframe\">\n",
       "  <thead>\n",
       "    <tr style=\"text-align: right;\">\n",
       "      <th></th>\n",
       "      <th>firstname</th>\n",
       "      <th>yob</th>\n",
       "      <th>sal</th>\n",
       "      <th>bonus</th>\n",
       "      <th>lastname</th>\n",
       "    </tr>\n",
       "  </thead>\n",
       "  <tbody>\n",
       "    <tr>\n",
       "      <th>0</th>\n",
       "      <td>Charlie</td>\n",
       "      <td>1992</td>\n",
       "      <td>55000</td>\n",
       "      <td>3000</td>\n",
       "      <td>brow</td>\n",
       "    </tr>\n",
       "    <tr>\n",
       "      <th>1</th>\n",
       "      <td>Charlie</td>\n",
       "      <td>1992</td>\n",
       "      <td>55000</td>\n",
       "      <td>3000</td>\n",
       "      <td>brow</td>\n",
       "    </tr>\n",
       "    <tr>\n",
       "      <th>2</th>\n",
       "      <td>Charlie</td>\n",
       "      <td>1992</td>\n",
       "      <td>55000</td>\n",
       "      <td>3000</td>\n",
       "      <td>brow</td>\n",
       "    </tr>\n",
       "    <tr>\n",
       "      <th>3</th>\n",
       "      <td>Charlie</td>\n",
       "      <td>1992</td>\n",
       "      <td>55000</td>\n",
       "      <td>3000</td>\n",
       "      <td>brow</td>\n",
       "    </tr>\n",
       "    <tr>\n",
       "      <th>4</th>\n",
       "      <td>bob</td>\n",
       "      <td>1985</td>\n",
       "      <td>60000</td>\n",
       "      <td>4000</td>\n",
       "      <td>johnson</td>\n",
       "    </tr>\n",
       "    <tr>\n",
       "      <th>5</th>\n",
       "      <td>bob</td>\n",
       "      <td>1985</td>\n",
       "      <td>60000</td>\n",
       "      <td>4000</td>\n",
       "      <td>johnson</td>\n",
       "    </tr>\n",
       "    <tr>\n",
       "      <th>6</th>\n",
       "      <td>bob</td>\n",
       "      <td>1985</td>\n",
       "      <td>60000</td>\n",
       "      <td>4000</td>\n",
       "      <td>johnson</td>\n",
       "    </tr>\n",
       "    <tr>\n",
       "      <th>7</th>\n",
       "      <td>bob</td>\n",
       "      <td>1985</td>\n",
       "      <td>60000</td>\n",
       "      <td>4000</td>\n",
       "      <td>johnson</td>\n",
       "    </tr>\n",
       "    <tr>\n",
       "      <th>8</th>\n",
       "      <td>alice</td>\n",
       "      <td>1990</td>\n",
       "      <td>50000</td>\n",
       "      <td>5000</td>\n",
       "      <td>smith</td>\n",
       "    </tr>\n",
       "    <tr>\n",
       "      <th>9</th>\n",
       "      <td>alice</td>\n",
       "      <td>1990</td>\n",
       "      <td>50000</td>\n",
       "      <td>5000</td>\n",
       "      <td>smith</td>\n",
       "    </tr>\n",
       "    <tr>\n",
       "      <th>10</th>\n",
       "      <td>alice</td>\n",
       "      <td>1990</td>\n",
       "      <td>50000</td>\n",
       "      <td>5000</td>\n",
       "      <td>smith</td>\n",
       "    </tr>\n",
       "    <tr>\n",
       "      <th>11</th>\n",
       "      <td>alice</td>\n",
       "      <td>1990</td>\n",
       "      <td>50000</td>\n",
       "      <td>5000</td>\n",
       "      <td>smith</td>\n",
       "    </tr>\n",
       "  </tbody>\n",
       "</table>\n",
       "</div>"
      ],
      "text/plain": [
       "   firstname   yob    sal  bonus lastname\n",
       "0    Charlie  1992  55000   3000     brow\n",
       "1    Charlie  1992  55000   3000     brow\n",
       "2    Charlie  1992  55000   3000     brow\n",
       "3    Charlie  1992  55000   3000     brow\n",
       "4        bob  1985  60000   4000  johnson\n",
       "5        bob  1985  60000   4000  johnson\n",
       "6        bob  1985  60000   4000  johnson\n",
       "7        bob  1985  60000   4000  johnson\n",
       "8      alice  1990  50000   5000    smith\n",
       "9      alice  1990  50000   5000    smith\n",
       "10     alice  1990  50000   5000    smith\n",
       "11     alice  1990  50000   5000    smith"
      ]
     },
     "execution_count": 56,
     "metadata": {},
     "output_type": "execute_result"
    }
   ],
   "source": [
    "df.to_parquet('emp_filter',partition_cols=['lastname'])\n",
    "data=pd.read_parquet('emp_filter')\n",
    "data"
   ]
  },
  {
   "cell_type": "code",
   "execution_count": 53,
   "id": "2ce1c023",
   "metadata": {},
   "outputs": [
    {
     "data": {
      "text/html": [
       "<div>\n",
       "<style scoped>\n",
       "    .dataframe tbody tr th:only-of-type {\n",
       "        vertical-align: middle;\n",
       "    }\n",
       "\n",
       "    .dataframe tbody tr th {\n",
       "        vertical-align: top;\n",
       "    }\n",
       "\n",
       "    .dataframe thead th {\n",
       "        text-align: right;\n",
       "    }\n",
       "</style>\n",
       "<table border=\"1\" class=\"dataframe\">\n",
       "  <thead>\n",
       "    <tr style=\"text-align: right;\">\n",
       "      <th></th>\n",
       "      <th>firstname</th>\n",
       "      <th>lastname</th>\n",
       "      <th>yob</th>\n",
       "      <th>sal</th>\n",
       "      <th>bonus</th>\n",
       "    </tr>\n",
       "  </thead>\n",
       "  <tbody>\n",
       "    <tr>\n",
       "      <th>0</th>\n",
       "      <td>alice</td>\n",
       "      <td>smith</td>\n",
       "      <td>1990</td>\n",
       "      <td>50000</td>\n",
       "      <td>5000</td>\n",
       "    </tr>\n",
       "    <tr>\n",
       "      <th>1</th>\n",
       "      <td>bob</td>\n",
       "      <td>johnson</td>\n",
       "      <td>1985</td>\n",
       "      <td>60000</td>\n",
       "      <td>4000</td>\n",
       "    </tr>\n",
       "    <tr>\n",
       "      <th>2</th>\n",
       "      <td>Charlie</td>\n",
       "      <td>brow</td>\n",
       "      <td>1992</td>\n",
       "      <td>55000</td>\n",
       "      <td>3000</td>\n",
       "    </tr>\n",
       "  </tbody>\n",
       "</table>\n",
       "</div>"
      ],
      "text/plain": [
       "  firstname lastname   yob    sal  bonus\n",
       "0     alice    smith  1990  50000   5000\n",
       "1       bob  johnson  1985  60000   4000\n",
       "2   Charlie     brow  1992  55000   3000"
      ]
     },
     "execution_count": 53,
     "metadata": {},
     "output_type": "execute_result"
    }
   ],
   "source": [
    "df = pd.read_parquet('emp.parquet')\n",
    "df"
   ]
  },
  {
   "cell_type": "code",
   "execution_count": 54,
   "id": "b81d0c31",
   "metadata": {},
   "outputs": [
    {
     "name": "stdout",
     "output_type": "stream",
     "text": [
      "Defaulting to user installation because normal site-packages is not writeable\n",
      "Requirement already satisfied: pandas in c:\\programdata\\anaconda3\\lib\\site-packages (2.0.3)\n",
      "Requirement already satisfied: pyarrow in c:\\programdata\\anaconda3\\lib\\site-packages (11.0.0)\n",
      "Requirement already satisfied: python-dateutil>=2.8.2 in c:\\programdata\\anaconda3\\lib\\site-packages (from pandas) (2.8.2)\n",
      "Requirement already satisfied: pytz>=2020.1 in c:\\programdata\\anaconda3\\lib\\site-packages (from pandas) (2023.3.post1)\n",
      "Requirement already satisfied: tzdata>=2022.1 in c:\\programdata\\anaconda3\\lib\\site-packages (from pandas) (2023.3)\n",
      "Requirement already satisfied: numpy>=1.21.0 in c:\\programdata\\anaconda3\\lib\\site-packages (from pandas) (1.24.3)\n",
      "Requirement already satisfied: six>=1.5 in c:\\programdata\\anaconda3\\lib\\site-packages (from python-dateutil>=2.8.2->pandas) (1.16.0)\n"
     ]
    }
   ],
   "source": [
    "!pip install pandas pyarrow"
   ]
  },
  {
   "cell_type": "code",
   "execution_count": 55,
   "id": "f755faaf",
   "metadata": {},
   "outputs": [
    {
     "name": "stdout",
     "output_type": "stream",
     "text": [
      "  firstname lastname   yob    sal  bonus\n",
      "0     alice    smith  1990  50000   5000\n",
      "1       bob  johnson  1985  60000   4000\n",
      "2   Charlie     brow  1992  55000   3000\n"
     ]
    },
    {
     "ename": "AttributeError",
     "evalue": "'DataFrame' object has no attribute 'read_parquet'",
     "output_type": "error",
     "traceback": [
      "\u001b[1;31m---------------------------------------------------------------------------\u001b[0m",
      "\u001b[1;31mAttributeError\u001b[0m                            Traceback (most recent call last)",
      "\u001b[1;32m~\\AppData\\Local\\Temp\\ipykernel_32524\\2848428965.py\u001b[0m in \u001b[0;36m?\u001b[1;34m()\u001b[0m\n\u001b[0;32m      1\u001b[0m \u001b[0mpf\u001b[0m \u001b[1;33m=\u001b[0m \u001b[0mpd\u001b[0m\u001b[1;33m.\u001b[0m\u001b[0mread_parquet\u001b[0m\u001b[1;33m(\u001b[0m\u001b[1;34m'emp.parquet'\u001b[0m\u001b[1;33m)\u001b[0m\u001b[1;33m\u001b[0m\u001b[1;33m\u001b[0m\u001b[0m\n\u001b[0;32m      2\u001b[0m \u001b[0mprint\u001b[0m\u001b[1;33m(\u001b[0m\u001b[0mpf\u001b[0m\u001b[1;33m)\u001b[0m\u001b[1;33m\u001b[0m\u001b[1;33m\u001b[0m\u001b[0m\n\u001b[1;32m----> 3\u001b[1;33m \u001b[0mdata\u001b[0m\u001b[1;33m=\u001b[0m\u001b[0mpf\u001b[0m\u001b[1;33m.\u001b[0m\u001b[0mread_parquet\u001b[0m\u001b[1;33m(\u001b[0m\u001b[1;34m'emp.parquet'\u001b[0m\u001b[1;33m,\u001b[0m\u001b[0mfilters\u001b[0m\u001b[1;33m=\u001b[0m\u001b[1;33m[\u001b[0m\u001b[1;33m(\u001b[0m\u001b[1;34m'yob'\u001b[0m\u001b[1;33m,\u001b[0m\u001b[1;34m'='\u001b[0m\u001b[1;33m,\u001b[0m\u001b[1;36m1990\u001b[0m\u001b[1;33m)\u001b[0m\u001b[1;33m]\u001b[0m\u001b[1;33m)\u001b[0m\u001b[1;33m\u001b[0m\u001b[1;33m\u001b[0m\u001b[0m\n\u001b[0m",
      "\u001b[1;32mC:\\ProgramData\\anaconda3\\Lib\\site-packages\\pandas\\core\\generic.py\u001b[0m in \u001b[0;36m?\u001b[1;34m(self, name)\u001b[0m\n\u001b[0;32m   5985\u001b[0m             \u001b[1;32mand\u001b[0m \u001b[0mname\u001b[0m \u001b[1;32mnot\u001b[0m \u001b[1;32min\u001b[0m \u001b[0mself\u001b[0m\u001b[1;33m.\u001b[0m\u001b[0m_accessors\u001b[0m\u001b[1;33m\u001b[0m\u001b[1;33m\u001b[0m\u001b[0m\n\u001b[0;32m   5986\u001b[0m             \u001b[1;32mand\u001b[0m \u001b[0mself\u001b[0m\u001b[1;33m.\u001b[0m\u001b[0m_info_axis\u001b[0m\u001b[1;33m.\u001b[0m\u001b[0m_can_hold_identifiers_and_holds_name\u001b[0m\u001b[1;33m(\u001b[0m\u001b[0mname\u001b[0m\u001b[1;33m)\u001b[0m\u001b[1;33m\u001b[0m\u001b[1;33m\u001b[0m\u001b[0m\n\u001b[0;32m   5987\u001b[0m         ):\n\u001b[0;32m   5988\u001b[0m             \u001b[1;32mreturn\u001b[0m \u001b[0mself\u001b[0m\u001b[1;33m[\u001b[0m\u001b[0mname\u001b[0m\u001b[1;33m]\u001b[0m\u001b[1;33m\u001b[0m\u001b[1;33m\u001b[0m\u001b[0m\n\u001b[1;32m-> 5989\u001b[1;33m         \u001b[1;32mreturn\u001b[0m \u001b[0mobject\u001b[0m\u001b[1;33m.\u001b[0m\u001b[0m__getattribute__\u001b[0m\u001b[1;33m(\u001b[0m\u001b[0mself\u001b[0m\u001b[1;33m,\u001b[0m \u001b[0mname\u001b[0m\u001b[1;33m)\u001b[0m\u001b[1;33m\u001b[0m\u001b[1;33m\u001b[0m\u001b[0m\n\u001b[0m",
      "\u001b[1;31mAttributeError\u001b[0m: 'DataFrame' object has no attribute 'read_parquet'"
     ]
    }
   ],
   "source": [
    "# filtering out only those colume which have yob==1990\n",
    "\n",
    "pf = pd.read_parquet('emp.parquet')\n",
    "print(pf)\n",
    "data=pf.read_parquet('emp.parquet',filters=[('yob','=',1990)])"
   ]
  },
  {
   "cell_type": "code",
   "execution_count": 57,
   "id": "04b901fc",
   "metadata": {},
   "outputs": [
    {
     "name": "stdout",
     "output_type": "stream",
     "text": [
      "  firstname lastname   yob    sal  bonus\n",
      "0     alice    smith  1990  50000   5000\n"
     ]
    }
   ],
   "source": [
    "import pandas as pd\n",
    "\n",
    "pf = pd.read_parquet('emp.parquet')\n",
    "filtered_data = pf[pf['yob'] == 1990]\n",
    "print(filtered_data)"
   ]
  },
  {
   "cell_type": "code",
   "execution_count": 71,
   "id": "fb7e978c",
   "metadata": {},
   "outputs": [
    {
     "data": {
      "text/plain": [
       "111"
      ]
     },
     "execution_count": 71,
     "metadata": {},
     "output_type": "execute_result"
    }
   ],
   "source": [
    "def product_sum(num1,num2):\n",
    "    product=num1*num2\n",
    "    if product<=1000:\n",
    "        return product\n",
    "    else:\n",
    "        return num1+num2\n",
    "\n",
    "product_sum(100,11)"
   ]
  },
  {
   "cell_type": "code",
   "execution_count": 87,
   "id": "e9ffcaa5",
   "metadata": {},
   "outputs": [
    {
     "name": "stdout",
     "output_type": "stream",
     "text": [
      "enter a number:5\n",
      "enter a number:2\n",
      "enter a operator:+\n"
     ]
    },
    {
     "data": {
      "text/plain": [
       "7"
      ]
     },
     "execution_count": 87,
     "metadata": {},
     "output_type": "execute_result"
    }
   ],
   "source": [
    "def operate_number(num1,num2,op):\n",
    "    if op=='+':\n",
    "        return num1+num2\n",
    "    elif op=='-':\n",
    "        return num1-num2\n",
    "    elif op=='*':\n",
    "        return num1*num2\n",
    "    elif op=='/':\n",
    "        if num2==0:\n",
    "            print(\"division by 0 is not possible\")\n",
    "        else:\n",
    "            return num1/num2\n",
    "    elif op=='//':\n",
    "        if num2==0:\n",
    "            print(\"division by 0 is not possible\")\n",
    "        else:\n",
    "            return num1//num2\n",
    "    elif op=='**':\n",
    "        return num1**num2\n",
    "    elif op=='%':\n",
    "        if num2==0:\n",
    "            print(\"mod by 0 is not possible\")\n",
    "        else:\n",
    "            return num1//num2\n",
    "\n",
    "num1=int(input(\"enter a number:\"))\n",
    "num2=int(input(\"enter a number:\"))\n",
    "op=input(\"enter a operator:\")\n",
    "operate_number(num1,num2,op)\n",
    "    "
   ]
  },
  {
   "cell_type": "code",
   "execution_count": 90,
   "id": "c7c60513",
   "metadata": {},
   "outputs": [
    {
     "name": "stdout",
     "output_type": "stream",
     "text": [
      "0\n",
      "salary for 300000 is 0.0\n"
     ]
    }
   ],
   "source": [
    "def calculate_tax(sal):\n",
    "    if sal<300000:\n",
    "        tax=0\n",
    "    else:\n",
    "        taxable_amt=sal-300000\n",
    "        print(taxable_amt)\n",
    "        if sal>=300000 and sal<600000:\n",
    "            tax=0.05\n",
    "        elif sal>=600000 and sal<900000:\n",
    "            tax=0.1\n",
    "        elif sal>=900000 and sal<1200000:\n",
    "            tax=0.15\n",
    "        elif sal>=1200000 and sal<1500000:\n",
    "            tax=0.2\n",
    "        else:\n",
    "            tax=0.3\n",
    "    return tax*taxable_amt\n",
    "\n",
    "salary=300000\n",
    "print(f'salary for {salary} is {calculate_tax(salary)}')\n",
    "    "
   ]
  },
  {
   "cell_type": "code",
   "execution_count": 133,
   "id": "861cb87e",
   "metadata": {},
   "outputs": [
    {
     "name": "stdout",
     "output_type": "stream",
     "text": [
      "['the', 'sun', 'rises', 'in', 'the', 'east']\n",
      "eht snu sesir ni eht stea\n",
      "['how', 'are', 'you', 'doing']\n",
      "woh rae uoy dngoi\n"
     ]
    }
   ],
   "source": [
    "def encrypt(sentence):\n",
    "    encrypt=[]\n",
    "    word=sentence.split(\" \")\n",
    "    print(word)\n",
    "    for i in range(0,len(word)):\n",
    "        if i%2==0:\n",
    "            encrypt.append(word[i][::-1])\n",
    "        else:\n",
    "            vowels=\"\"\n",
    "            conso=\"\"\n",
    "            for x in word[i]:\n",
    "                if x in \"aeiou\":\n",
    "                    vowels=vowels+x\n",
    "                else:\n",
    "                    conso=conso+x\n",
    "            encrypt.append(conso+vowels)\n",
    "    ans=(\" \").join(encrypt)              \n",
    "    print(ans)\n",
    "    \n",
    "encrypt('the sun rises in the east')\n",
    "encrypt('how are you doing')"
   ]
  },
  {
   "cell_type": "code",
   "execution_count": 135,
   "id": "6023da76",
   "metadata": {},
   "outputs": [
    {
     "name": "stdout",
     "output_type": "stream",
     "text": [
      "{'MANGO': 815.7, 'ORANGE': 250.5}\n"
     ]
    }
   ],
   "source": [
    "prices={'APPLE':55.30,'MANGO':815.70,'ORANGE':250.50,'BANANA':97.30,'WATERMELON':100.25}\n",
    "\n",
    "def price_dictionary(prices):\n",
    "    new_dict={}\n",
    "    for k,v in prices.items():\n",
    "        if v>200:\n",
    "            new_dict[k]=v\n",
    "    return new_dict\n",
    "\n",
    "print(price_dictionary(prices))"
   ]
  },
  {
   "cell_type": "code",
   "execution_count": null,
   "id": "629a013e",
   "metadata": {},
   "outputs": [],
   "source": []
  }
 ],
 "metadata": {
  "kernelspec": {
   "display_name": "Python 3 (ipykernel)",
   "language": "python",
   "name": "python3"
  },
  "language_info": {
   "codemirror_mode": {
    "name": "ipython",
    "version": 3
   },
   "file_extension": ".py",
   "mimetype": "text/x-python",
   "name": "python",
   "nbconvert_exporter": "python",
   "pygments_lexer": "ipython3",
   "version": "3.11.5"
  }
 },
 "nbformat": 4,
 "nbformat_minor": 5
}
