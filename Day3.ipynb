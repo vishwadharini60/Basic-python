{
 "cells": [
  {
   "cell_type": "code",
   "execution_count": 3,
   "id": "50b4641f",
   "metadata": {},
   "outputs": [
    {
     "name": "stdout",
     "output_type": "stream",
     "text": [
      "9\n"
     ]
    }
   ],
   "source": [
    "#lambda function\n",
    "\n",
    "square=lambda n:n**2\n",
    "\n",
    "print(square(3))"
   ]
  },
  {
   "cell_type": "code",
   "execution_count": 6,
   "id": "0fc98e07",
   "metadata": {},
   "outputs": [
    {
     "name": "stdout",
     "output_type": "stream",
     "text": [
      "Enter first value :2\n",
      "Enter second value :w\n",
      "Error\n"
     ]
    }
   ],
   "source": [
    "#exception handling\n",
    "\n",
    "try:\n",
    "    a=input(\"Enter first value :\")\n",
    "    b=input(\"Enter second value :\")\n",
    "    ans=int(a)/int(b)\n",
    "    print(ans)\n",
    "except:\n",
    "    print(\"Error\")"
   ]
  },
  {
   "cell_type": "code",
   "execution_count": 8,
   "id": "a82bd0a1",
   "metadata": {},
   "outputs": [
    {
     "name": "stdout",
     "output_type": "stream",
     "text": [
      "Enter first value :1\n",
      "Enter second value :0\n",
      "Error\n"
     ]
    },
    {
     "ename": "ZeroDivisionError",
     "evalue": "division by zero",
     "output_type": "error",
     "traceback": [
      "\u001b[1;31m---------------------------------------------------------------------------\u001b[0m",
      "\u001b[1;31mZeroDivisionError\u001b[0m                         Traceback (most recent call last)",
      "Cell \u001b[1;32mIn[8], line 6\u001b[0m\n\u001b[0;32m      4\u001b[0m     a\u001b[38;5;241m=\u001b[39m\u001b[38;5;28minput\u001b[39m(\u001b[38;5;124m\"\u001b[39m\u001b[38;5;124mEnter first value :\u001b[39m\u001b[38;5;124m\"\u001b[39m)\n\u001b[0;32m      5\u001b[0m     b\u001b[38;5;241m=\u001b[39m\u001b[38;5;28minput\u001b[39m(\u001b[38;5;124m\"\u001b[39m\u001b[38;5;124mEnter second value :\u001b[39m\u001b[38;5;124m\"\u001b[39m)\n\u001b[1;32m----> 6\u001b[0m     ans\u001b[38;5;241m=\u001b[39m\u001b[38;5;28mint\u001b[39m(a)\u001b[38;5;241m/\u001b[39m\u001b[38;5;28mint\u001b[39m(b)\n\u001b[0;32m      7\u001b[0m     \u001b[38;5;28mprint\u001b[39m(ans)\n\u001b[0;32m      8\u001b[0m \u001b[38;5;28;01mfinally\u001b[39;00m:\n",
      "\u001b[1;31mZeroDivisionError\u001b[0m: division by zero"
     ]
    }
   ],
   "source": [
    "# error wont be handled if theres no except\n",
    "\n",
    "try:\n",
    "    a=input(\"Enter first value :\")\n",
    "    b=input(\"Enter second value :\")\n",
    "    ans=int(a)/int(b)\n",
    "    print(ans)\n",
    "    \n",
    "finally:\n",
    "    print(\"Finally\")"
   ]
  },
  {
   "cell_type": "code",
   "execution_count": 9,
   "id": "d911d096",
   "metadata": {},
   "outputs": [
    {
     "name": "stdout",
     "output_type": "stream",
     "text": [
      "Enter first value :a\n",
      "Enter second value :d\n",
      "Error\n",
      "finally\n"
     ]
    }
   ],
   "source": [
    "#exception handling\n",
    "\n",
    "try:\n",
    "    a=input(\"Enter first value :\")\n",
    "    b=input(\"Enter second value :\")\n",
    "    ans=int(a)/int(b)\n",
    "    print(ans)\n",
    "except:\n",
    "    print(\"Error\")\n",
    "finally:\n",
    "    print(\"finally\")"
   ]
  },
  {
   "cell_type": "code",
   "execution_count": 29,
   "id": "91f51545",
   "metadata": {},
   "outputs": [
    {
     "name": "stdout",
     "output_type": "stream",
     "text": [
      "Enter first value :10\n",
      "Enter second value :20\n",
      "0.5\n",
      "executed when no error is present\n",
      "finally\n"
     ]
    }
   ],
   "source": [
    "#using else\n",
    "\n",
    "try:\n",
    "    a=input(\"Enter first value :\")\n",
    "    b=input(\"Enter second value :\")\n",
    "    ans=int(a)/int(b)\n",
    "    print(ans)\n",
    "except:\n",
    "    print(\"executed when error is present\")\n",
    "else:\n",
    "    print(\"executed when no error is present\")\n",
    "finally:\n",
    "    print(\"finally\")"
   ]
  },
  {
   "cell_type": "code",
   "execution_count": 19,
   "id": "cb4a2ba7",
   "metadata": {},
   "outputs": [
    {
     "name": "stdout",
     "output_type": "stream",
     "text": [
      "Enter first value :22\n",
      "Enter second value :a\n",
      "invalid literal for int() with base 10: 'a'\n"
     ]
    }
   ],
   "source": [
    "# known error handling\n",
    "\n",
    "try:\n",
    "    a=input(\"Enter first value :\")\n",
    "    b=input(\"Enter second value :\")\n",
    "    ans=int(a)/int(b)\n",
    "    print(ans)\n",
    "    \n",
    "except ZeroDivisionError as e:\n",
    "    print(\"Division by zero is not allowed\")\n",
    "    \n",
    "except (ValueError,NameError) as e:\n",
    "    print(e)\n",
    "    \n",
    "except:\n",
    "    print(\"Error\")\n"
   ]
  },
  {
   "cell_type": "code",
   "execution_count": 25,
   "id": "2b96fc25",
   "metadata": {},
   "outputs": [
    {
     "name": "stdout",
     "output_type": "stream",
     "text": [
      "Enter first value :2\n",
      "Enter second value :0\n",
      "Division by zero is not allowed\n"
     ]
    }
   ],
   "source": [
    "#raise \n",
    "\n",
    "try:\n",
    "    a=input(\"Enter first value :\")\n",
    "    b=input(\"Enter second value :\")\n",
    "    ans=int(a)/int(b)\n",
    "    \n",
    "    if b==0:\n",
    "        raise ZeroDivisionError(\"b cannot be zero\")\n",
    "        \n",
    "    print(ans)\n",
    "    \n",
    "except ZeroDivisionError as e:\n",
    "    print(\"Division by zero is not allowed\")\n",
    "    \n",
    "except (ValueError,NameError) as e:\n",
    "    print(e)\n",
    "    \n",
    "except:\n",
    "    print(\"Error\")"
   ]
  },
  {
   "cell_type": "code",
   "execution_count": 26,
   "id": "dcc003ad",
   "metadata": {},
   "outputs": [
    {
     "name": "stdout",
     "output_type": "stream",
     "text": [
      "inside function\n"
     ]
    }
   ],
   "source": [
    "def divide(a,b):\n",
    "    try:\n",
    "        ans=int(a)/int(b)\n",
    "        print(ans)\n",
    "    except ZeroDivisionError as e:\n",
    "        print(\"inside function\")\n",
    "\n",
    "try:\n",
    "    divide(10,0)\n",
    "except:\n",
    "    print(\"outside function\")"
   ]
  },
  {
   "cell_type": "code",
   "execution_count": 1,
   "id": "3d305b3f",
   "metadata": {},
   "outputs": [
    {
     "name": "stdout",
     "output_type": "stream",
     "text": [
      "[1, 4, 9, 16, 25]\n"
     ]
    }
   ],
   "source": [
    "#map\n",
    "\n",
    "#there shouldnt be error\n",
    "\n",
    "l=[1,2,3,4,5]\n",
    "\n",
    "def do_square(num):\n",
    "    s=num*num\n",
    "    return s\n",
    "\n",
    "z=list(map(do_square,l))\n",
    "print(z)"
   ]
  },
  {
   "cell_type": "code",
   "execution_count": 37,
   "id": "42798ce4",
   "metadata": {},
   "outputs": [
    {
     "name": "stdout",
     "output_type": "stream",
     "text": [
      "1\n",
      "4\n",
      "9\n",
      "16\n",
      "25\n"
     ]
    }
   ],
   "source": [
    "l=[1,2,3,4,5]\n",
    "\n",
    "def do_square(num):\n",
    "    s=num*num\n",
    "    return s\n",
    "\n",
    "z=map(do_square,l)\n",
    "\n",
    "for i in z:\n",
    "    print(i)\n"
   ]
  },
  {
   "cell_type": "code",
   "execution_count": 43,
   "id": "67556fe0",
   "metadata": {},
   "outputs": [
    {
     "name": "stdout",
     "output_type": "stream",
     "text": [
      "1\n",
      "4\n",
      "9\n",
      "16\n",
      "25\n"
     ]
    }
   ],
   "source": [
    "l=[1,2,3,4,5]\n",
    "\n",
    "z=map(lambda num:num*num,l)\n",
    "for i in z:\n",
    "    print(i)"
   ]
  },
  {
   "cell_type": "code",
   "execution_count": 2,
   "id": "e2c349c9",
   "metadata": {},
   "outputs": [
    {
     "name": "stdout",
     "output_type": "stream",
     "text": [
      "[1, 4, 9, 16, 25]\n"
     ]
    }
   ],
   "source": [
    "l=[1,2,3,4,5]\n",
    "\n",
    "z=map(lambda num:num*num,l)\n",
    "print(list(z))\n",
    "for i in z:\n",
    "    print(i)"
   ]
  },
  {
   "cell_type": "code",
   "execution_count": 105,
   "id": "cb52700f",
   "metadata": {},
   "outputs": [
    {
     "name": "stdout",
     "output_type": "stream",
     "text": [
      "<map object at 0x0000021D9BF27A60>\n",
      "hyd\n",
      "ban\n",
      "del\n"
     ]
    }
   ],
   "source": [
    "l=[\"hydrabad\",\"bangalore\",\"delhi\"]\n",
    "\n",
    "z=map(lambda num:num[0:3],l)\n",
    "print(z)\n",
    "for i in z:\n",
    "    print(i)"
   ]
  },
  {
   "cell_type": "code",
   "execution_count": 48,
   "id": "12483647",
   "metadata": {},
   "outputs": [
    {
     "name": "stdout",
     "output_type": "stream",
     "text": [
      "2\n",
      "4\n",
      "6\n"
     ]
    }
   ],
   "source": [
    "#filter\n",
    "\n",
    "list1=[1,2,3,4,5,6]\n",
    "\n",
    "def is_even(num):\n",
    "    if num%2==0:\n",
    "        return True\n",
    "    else:\n",
    "        return False\n",
    "\n",
    "z=filter(is_even,list1)\n",
    "for i in z:\n",
    "    print(i)"
   ]
  },
  {
   "cell_type": "code",
   "execution_count": 49,
   "id": "8d71e106",
   "metadata": {},
   "outputs": [
    {
     "name": "stdout",
     "output_type": "stream",
     "text": [
      "2\n",
      "4\n",
      "6\n"
     ]
    }
   ],
   "source": [
    "list1=[1,2,3,4,5,6]\n",
    "\n",
    "z=filter(lambda num:num%2==0,list1)\n",
    "for i in z:\n",
    "    print(i)"
   ]
  },
  {
   "cell_type": "code",
   "execution_count": 72,
   "id": "791cab81",
   "metadata": {},
   "outputs": [
    {
     "name": "stdout",
     "output_type": "stream",
     "text": [
      "600\n"
     ]
    }
   ],
   "source": [
    "#reduce\n",
    "\n",
    "import functools\n",
    "\n",
    "x=[100,200,300]\n",
    "\n",
    "z=functools.reduce(lambda a,b:a+b,x)\n",
    "print(z)"
   ]
  },
  {
   "cell_type": "code",
   "execution_count": null,
   "id": "b8ee3221",
   "metadata": {},
   "outputs": [],
   "source": [
    "# reduce\n",
    "\n",
    "import functools\n",
    "\n",
    "x=[100,200,300]\n",
    "\n",
    "def do_sum(a,b):\n",
    "    return a+b\n",
    "\n",
    "z=functools.reduce(do_sum,x)\n",
    "print(z)"
   ]
  },
  {
   "cell_type": "code",
   "execution_count": 68,
   "id": "2ef7267c",
   "metadata": {},
   "outputs": [
    {
     "name": "stdout",
     "output_type": "stream",
     "text": [
      "(1, 3, 5, 7, 9)\n",
      "(2, 6, 10, 14, 18)\n",
      "50\n"
     ]
    }
   ],
   "source": [
    "import functools\n",
    "\n",
    "x=[1,2,3,4,5,6,7,8,9]\n",
    "\n",
    "odd_num=filter(lambda n:n%2!=0,x)\n",
    "odd_list=tuple(odd_num)\n",
    "print(odd_list)\n",
    "\n",
    "double_num=map(lambda n:n*2,odd_list)\n",
    "double_list=tuple(double_num)\n",
    "print(double_list)\n",
    "\n",
    "sum=functools.reduce(lambda n1,n2:n1+n2,double_list)\n",
    "print(sum)\n"
   ]
  },
  {
   "cell_type": "code",
   "execution_count": 16,
   "id": "de0a9a68",
   "metadata": {},
   "outputs": [
    {
     "name": "stdout",
     "output_type": "stream",
     "text": [
      "pre hire\n",
      "welcome\n",
      "post hire\n"
     ]
    }
   ],
   "source": [
    "#decorator\n",
    "\n",
    "def my_deco(func):\n",
    "    def rap():\n",
    "        print('pre hire')\n",
    "        func()\n",
    "        print('post hire')\n",
    "    return rap\n",
    "\n",
    "@my_deco\n",
    "def hello():\n",
    "    print('welcome')\n",
    "    \n",
    "hello()\n"
   ]
  },
  {
   "cell_type": "code",
   "execution_count": 78,
   "id": "07dd211b",
   "metadata": {},
   "outputs": [
    {
     "name": "stdout",
     "output_type": "stream",
     "text": [
      "10\n"
     ]
    }
   ],
   "source": [
    "def sub_dec(fun):\n",
    "    def wrapper(num1,num2):\n",
    "        if num1<num2:\n",
    "            num1,num2=num2,num1\n",
    "        return fun(num1,num2)\n",
    "    return wrapper\n",
    "\n",
    "@sub_dec\n",
    "def sub(n1,n2):\n",
    "    ans=n1-n2\n",
    "    return ans\n",
    "\n",
    "print(sub(10,20))"
   ]
  },
  {
   "cell_type": "code",
   "execution_count": 84,
   "id": "c6699193",
   "metadata": {},
   "outputs": [
    {
     "name": "stdout",
     "output_type": "stream",
     "text": [
      "10\n",
      "None\n"
     ]
    }
   ],
   "source": [
    "def sub_dec(fun):\n",
    "    def wrapper(num1,num2):\n",
    "        if num1<num2:\n",
    "            num1,num2=num2,num1\n",
    "        fun(num1,num2)\n",
    "    return wrapper\n",
    "\n",
    "@sub_dec\n",
    "def sub(n1,n2):\n",
    "    ans=n1-n2\n",
    "    print(ans)\n",
    "    return ans\n",
    "\n",
    "print(sub(10,20))"
   ]
  },
  {
   "cell_type": "code",
   "execution_count": 91,
   "id": "5bad06bf",
   "metadata": {},
   "outputs": [
    {
     "name": "stdout",
     "output_type": "stream",
     "text": [
      "1 Sheep\n",
      "2 Sheep\n",
      "3 Sheep\n",
      "4 Sheep\n",
      "5 Sheep\n"
     ]
    }
   ],
   "source": [
    "# args\n",
    "\n",
    "def count_sheep(*args):\n",
    "    for i in args:\n",
    "        print(str(i)+' Sheep')\n",
    "       \n",
    "count_sheep('1','2','3','4','5')\n",
    "    "
   ]
  },
  {
   "cell_type": "code",
   "execution_count": 92,
   "id": "5ec82947",
   "metadata": {},
   "outputs": [
    {
     "name": "stdout",
     "output_type": "stream",
     "text": [
      "['1', '2', '3'] Sheep\n"
     ]
    }
   ],
   "source": [
    "def count_sheep(*args):\n",
    "    for i in args:\n",
    "        print(str(i)+' Sheep')\n",
    "x=['1','2','3']     \n",
    "count_sheep(x)"
   ]
  },
  {
   "cell_type": "code",
   "execution_count": 3,
   "id": "e3a45ca9",
   "metadata": {},
   "outputs": [
    {
     "name": "stdout",
     "output_type": "stream",
     "text": [
      "<class 'tuple'>\n",
      "3\n",
      "<class 'tuple'>\n",
      "6\n"
     ]
    }
   ],
   "source": [
    "def do_sum(*args):\n",
    "    sum=0\n",
    "    print(type(args))\n",
    "    for i in args:\n",
    "        sum=sum+i\n",
    "    return sum  \n",
    "\n",
    "print(do_sum(1,2))\n",
    "print(do_sum(1,2,3))"
   ]
  },
  {
   "cell_type": "code",
   "execution_count": 6,
   "id": "52b3d148",
   "metadata": {},
   "outputs": [
    {
     "name": "stdout",
     "output_type": "stream",
     "text": [
      "{'name': 'vishwa', 'age': '21'}\n"
     ]
    }
   ],
   "source": [
    "# kwargs\n",
    "\n",
    "def kwargs_func(**kwargs):\n",
    "        print(kwargs)\n",
    "        \n",
    "kwargs_func(name='vishwa',age='21')"
   ]
  },
  {
   "cell_type": "code",
   "execution_count": 11,
   "id": "7983b0ec",
   "metadata": {},
   "outputs": [
    {
     "name": "stdout",
     "output_type": "stream",
     "text": [
      "name:vishwa\n",
      "age:21\n"
     ]
    }
   ],
   "source": [
    "def kwargs_func(**kwargs):\n",
    "    for k,v in kwargs.items():\n",
    "        print(f'{k}:{v}')\n",
    "        \n",
    "kwargs_func(name='vishwa',age='21')"
   ]
  },
  {
   "cell_type": "code",
   "execution_count": 12,
   "id": "7cac7af1",
   "metadata": {},
   "outputs": [
    {
     "name": "stdout",
     "output_type": "stream",
     "text": [
      "(1, 2, 3)\n",
      "{'name': 'vishwa', 'age': '21'}\n"
     ]
    }
   ],
   "source": [
    "# using both args and kwargs\n",
    "\n",
    "def use_both(*args,**kwargs):\n",
    "    print(args)\n",
    "    print(kwargs)\n",
    "    \n",
    "use_both(1,2,3,name='vishwa',age='21')"
   ]
  },
  {
   "cell_type": "code",
   "execution_count": 14,
   "id": "16c7bf99",
   "metadata": {},
   "outputs": [
    {
     "ename": "SyntaxError",
     "evalue": "arguments cannot follow var-keyword argument (3063304737.py, line 3)",
     "output_type": "error",
     "traceback": [
      "\u001b[1;36m  Cell \u001b[1;32mIn[14], line 3\u001b[1;36m\u001b[0m\n\u001b[1;33m    def use_both(**kargs,*args):\u001b[0m\n\u001b[1;37m                         ^\u001b[0m\n\u001b[1;31mSyntaxError\u001b[0m\u001b[1;31m:\u001b[0m arguments cannot follow var-keyword argument\n"
     ]
    }
   ],
   "source": [
    "# kwargs cannot be used first as argument\n",
    "\n",
    "def use_both(**kargs,*args):\n",
    "    print(args)\n",
    "    print(kwargs)\n",
    "    \n",
    "use_both(name='vishwa',age='21',1,2,3)"
   ]
  },
  {
   "cell_type": "code",
   "execution_count": 22,
   "id": "b79dc1a5",
   "metadata": {},
   "outputs": [
    {
     "name": "stdout",
     "output_type": "stream",
     "text": [
      "5\n",
      "8\n",
      "4\n",
      "4.268\n"
     ]
    }
   ],
   "source": [
    "# Built in numerical functions\n",
    "\n",
    "a=-5\n",
    "print(abs(5))\n",
    "\n",
    "print(pow(2,3))\n",
    "\n",
    "b=4.5\n",
    "c=4.267678\n",
    "print(round(b))\n",
    "print(round(c,3))"
   ]
  },
  {
   "cell_type": "code",
   "execution_count": 26,
   "id": "d9b65d4c",
   "metadata": {},
   "outputs": [
    {
     "name": "stdout",
     "output_type": "stream",
     "text": [
      "Hello world\n",
      "Hello World\n",
      "HELLO WORLD\n"
     ]
    }
   ],
   "source": [
    "# String functions\n",
    "\n",
    "s=\"hello world\"\n",
    "\n",
    "print(s.capitalize())\n",
    "print(s.title())\n",
    "print(s.swapcase())"
   ]
  },
  {
   "cell_type": "code",
   "execution_count": 41,
   "id": "478365a3",
   "metadata": {},
   "outputs": [
    {
     "name": "stdout",
     "output_type": "stream",
     "text": [
      "False\n",
      "False\n",
      "True\n",
      "True\n",
      "False\n",
      "True\n"
     ]
    }
   ],
   "source": [
    "s=\"hello world\"\n",
    "n=\"123er\"\n",
    "sp=\" \"\n",
    "print(s.isalpha())\n",
    "print(n.isdigit())\n",
    "print(n.isalnum())\n",
    "print(sp.isspace())\n",
    "print(s.istitle())\n",
    "print(s.islower())\n",
    "print(s.isupper())"
   ]
  },
  {
   "cell_type": "code",
   "execution_count": 1,
   "id": "f429be9c",
   "metadata": {},
   "outputs": [
    {
     "name": "stdout",
     "output_type": "stream",
     "text": [
      "['hello', 'world']\n",
      "True\n",
      "True\n",
      "False\n",
      "4\n",
      "7\n",
      "2\n",
      "hello woild\n"
     ]
    }
   ],
   "source": [
    "s=\"hello world\"\n",
    "print(s.split())\n",
    "print(s.startswith(\"he\" or \"He\"))\n",
    "print(s.startswith(\"wo\",6,9))\n",
    "print(s.endswith(\"h\"))\n",
    "print(s.find('o')) \n",
    "print(s.find('o',5,10)) \n",
    "print(s.count('o'))\n",
    "print(s.replace('r','i'))"
   ]
  },
  {
   "cell_type": "code",
   "execution_count": 56,
   "id": "5bb9f4c2",
   "metadata": {},
   "outputs": [
    {
     "name": "stdout",
     "output_type": "stream",
     "text": [
      "hello world\n",
      "hello$world\n"
     ]
    }
   ],
   "source": [
    "x=[\"hello\",\"world\"]\n",
    "print(\" \".join(x))\n",
    "print(\"$\".join(x))"
   ]
  },
  {
   "cell_type": "code",
   "execution_count": null,
   "id": "def19ef0",
   "metadata": {},
   "outputs": [],
   "source": []
  }
 ],
 "metadata": {
  "kernelspec": {
   "display_name": "Python 3 (ipykernel)",
   "language": "python",
   "name": "python3"
  },
  "language_info": {
   "codemirror_mode": {
    "name": "ipython",
    "version": 3
   },
   "file_extension": ".py",
   "mimetype": "text/x-python",
   "name": "python",
   "nbconvert_exporter": "python",
   "pygments_lexer": "ipython3",
   "version": "3.11.5"
  }
 },
 "nbformat": 4,
 "nbformat_minor": 5
}
